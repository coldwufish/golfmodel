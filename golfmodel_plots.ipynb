{
 "cells": [
  {
   "cell_type": "markdown",
   "metadata": {},
   "source": [
    "# Some plots from the Golf model"
   ]
  },
  {
   "cell_type": "code",
   "execution_count": 1,
   "metadata": {},
   "outputs": [
    {
     "data": {
      "text/html": [
       "        <script type=\"text/javascript\">\n",
       "        window.PlotlyConfig = {MathJaxConfig: 'local'};\n",
       "        if (window.MathJax && window.MathJax.Hub && window.MathJax.Hub.Config) {window.MathJax.Hub.Config({SVG: {font: \"STIX-Web\"}});}\n",
       "        if (typeof require !== 'undefined') {\n",
       "        require.undef(\"plotly\");\n",
       "        requirejs.config({\n",
       "            paths: {\n",
       "                'plotly': ['https://cdn.plot.ly/plotly-2.14.0.min']\n",
       "            }\n",
       "        });\n",
       "        require(['plotly'], function(Plotly) {\n",
       "            window._Plotly = Plotly;\n",
       "        });\n",
       "        }\n",
       "        </script>\n",
       "        "
      ]
     },
     "metadata": {},
     "output_type": "display_data"
    },
    {
     "name": "stdout",
     "output_type": "stream",
     "text": [
      "3.9.4 (tags/v3.9.4:1f2e308, Apr  6 2021, 13:40:21) [MSC v.1928 64 bit (AMD64)]\n"
     ]
    }
   ],
   "source": [
    "# Import stuff\n",
    "import sys, os, time\n",
    "import pandas as pd\n",
    "import numpy as np\n",
    "\n",
    "\n",
    "# Use plotly for plotting\n",
    "from chart_studio import plotly\n",
    "#import plotly\n",
    "import chart_studio.plotly as pltly\n",
    "import plotly.graph_objs as go\n",
    "import plotly.offline as pltlyoff\n",
    "from IPython.display import display, HTML\n",
    "\n",
    "# Custom files\n",
    "sys.path.append(os.path.dirname(os.path.dirname(os.path.realpath('__file__')))) # Add parent folder to sys.path\n",
    "from imports import golf_ballstics\n",
    "\n",
    "# Setup\n",
    "pltlyoff.init_notebook_mode(connected=True)\n",
    "print(sys.version)\n",
    "#print('Plotly version', plotly.__version__)\n",
    "\n",
    "# Declare ballistics model\n",
    "golf_m = golf_ballstics.golf_ballstics()"
   ]
  },
  {
   "cell_type": "markdown",
   "metadata": {},
   "source": [
    "## The Golf ballistics model\n",
    "\n",
    "The **drag force** $F_D$ of a ball is given by:\n",
    "$$F_D=\\frac{1}{2}C_D\\rho A v^2$$\n",
    "where $C_D$ is the drag coefficient, $\\rho$ is the fluid density (1.2$kg/m^3$ for air), and $A=\\pi r^2$ is the cross section area of the ball, and $v$ is the velocity of the ball.\n",
    "Similarly, the **lift force** created by the _Magnus effect_ (spin induced lift) is given by:\n",
    "$$F_L=\\frac{1}{2}C_L\\rho A v^2$$\n",
    "whre $C_L$ is dependent on the spin.\n",
    "The ideal lift of a spinning ball is given by:\n",
    "$$F_{L(ideal)}=\\frac{4}{3}4\\pi r^3 s \\rho v$$\n",
    "where s is the spin in rad/s.\n",
    "$C_L$ is the empirically obtained correction factor between the ideal and observed lift, and can be caluclated from the effectivce spin number:\n",
    "$$s_n=\\frac{\\omega_n r}{v}$$\n",
    "with the epirical relation:\n",
    "\n",
    "| $s_n$ | $C_L$ |\n",
    "|-------|-------|\n",
    "| 0.00  | 0.00  |\n",
    "| 0.04  | 0.10  |\n",
    "| 0.10  | 0.16  |\n",
    "| 0.20  | 0.23  |\n",
    "| 0.40  | 0.33  |\n",
    "\n",
    "\n",
    "The drag coefficient is dependent on the Reynolds number, which again is dependent on the travelling speeds. We assume that the drag coefficient is constant for the entire ballistic trajectory as a simplification. Reynolds number is the ratio of the inertia forces to the viscous forces given by:\n",
    "$$Re=\\frac{v\\rho l}{\\mu}$$\n",
    "where $l$ is a reference length and $\\mu$ is the viscocity coefficient.\n",
    "\n"
   ]
  },
  {
   "cell_type": "code",
   "execution_count": 2,
   "metadata": {},
   "outputs": [
    {
     "data": {
      "text/html": [
       "<div>\n",
       "<style scoped>\n",
       "    .dataframe tbody tr th:only-of-type {\n",
       "        vertical-align: middle;\n",
       "    }\n",
       "\n",
       "    .dataframe tbody tr th {\n",
       "        vertical-align: top;\n",
       "    }\n",
       "\n",
       "    .dataframe thead th {\n",
       "        text-align: right;\n",
       "    }\n",
       "</style>\n",
       "<table border=\"1\" class=\"dataframe\">\n",
       "  <thead>\n",
       "    <tr style=\"text-align: right;\">\n",
       "      <th></th>\n",
       "      <th>t</th>\n",
       "      <th>x</th>\n",
       "      <th>y</th>\n",
       "      <th>z</th>\n",
       "      <th>v_x</th>\n",
       "      <th>v_y</th>\n",
       "      <th>v_z</th>\n",
       "    </tr>\n",
       "  </thead>\n",
       "  <tbody>\n",
       "    <tr>\n",
       "      <th>0</th>\n",
       "      <td>0.00000</td>\n",
       "      <td>0.000000</td>\n",
       "      <td>0.000000</td>\n",
       "      <td>0.000000</td>\n",
       "      <td>-9.529228</td>\n",
       "      <td>67.803983</td>\n",
       "      <td>14.553818</td>\n",
       "    </tr>\n",
       "    <tr>\n",
       "      <th>1</th>\n",
       "      <td>0.10101</td>\n",
       "      <td>-0.918844</td>\n",
       "      <td>6.713281</td>\n",
       "      <td>1.466234</td>\n",
       "      <td>-8.674823</td>\n",
       "      <td>65.149502</td>\n",
       "      <td>14.468394</td>\n",
       "    </tr>\n",
       "    <tr>\n",
       "      <th>2</th>\n",
       "      <td>0.20202</td>\n",
       "      <td>-1.754582</td>\n",
       "      <td>13.167394</td>\n",
       "      <td>2.921163</td>\n",
       "      <td>-7.882605</td>\n",
       "      <td>62.669696</td>\n",
       "      <td>14.331118</td>\n",
       "    </tr>\n",
       "    <tr>\n",
       "      <th>3</th>\n",
       "      <td>0.30303</td>\n",
       "      <td>-2.513184</td>\n",
       "      <td>19.379189</td>\n",
       "      <td>4.359816</td>\n",
       "      <td>-7.146759</td>\n",
       "      <td>60.349362</td>\n",
       "      <td>14.145905</td>\n",
       "    </tr>\n",
       "    <tr>\n",
       "      <th>4</th>\n",
       "      <td>0.40404</td>\n",
       "      <td>-3.200117</td>\n",
       "      <td>25.364126</td>\n",
       "      <td>5.777315</td>\n",
       "      <td>-6.462731</td>\n",
       "      <td>58.175795</td>\n",
       "      <td>13.913133</td>\n",
       "    </tr>\n",
       "  </tbody>\n",
       "</table>\n",
       "</div>"
      ],
      "text/plain": [
       "         t         x          y         z       v_x        v_y        v_z\n",
       "0  0.00000  0.000000   0.000000  0.000000 -9.529228  67.803983  14.553818\n",
       "1  0.10101 -0.918844   6.713281  1.466234 -8.674823  65.149502  14.468394\n",
       "2  0.20202 -1.754582  13.167394  2.921163 -7.882605  62.669696  14.331118\n",
       "3  0.30303 -2.513184  19.379189  4.359816 -7.146759  60.349362  14.145905\n",
       "4  0.40404 -3.200117  25.364126  5.777315 -6.462731  58.175795  13.913133"
      ]
     },
     "metadata": {},
     "output_type": "display_data"
    },
    {
     "name": "stdout",
     "output_type": "stream",
     "text": [
      "Ball lands at (212.69360478310537,8.851091749485533)\n"
     ]
    }
   ],
   "source": [
    "# Example of how to run the model\n",
    "\n",
    "##########################################################\n",
    "########### Simulate entire ball trajectory ##############\n",
    "\n",
    "# Hit the ball\n",
    "golf_m.initiate_hit(velocity = 70, \n",
    "                    launch_angle_deg = 12, off_center_angle_deg = -8, \n",
    "                    spin_rpm = 3000, spin_angle_deg = -10,\n",
    "                    windspeed = 8, windheading_deg = 100) \n",
    "\n",
    "# Simulation results stored in dataframe df\n",
    "df=golf_m.df_simres \n",
    "\n",
    "display(df.head())\n",
    "\n",
    "##########################################################\n",
    "########### Calculate landing position ###################\n",
    "\n",
    "# If we just want to calculate the landing position of the ball \n",
    "\n",
    "y2, y1 = golf_m.get_landingpos(velocity = 70, \n",
    "                    launch_angle_deg = 12, off_center_angle_deg = -8, \n",
    "                    spin_rpm = 3000, spin_angle_deg = -10,\n",
    "                    windspeed = 8, windheading_deg = 100)\n",
    "\n",
    "print('Ball lands at ({},{})'.format(y1, y2))\n"
   ]
  },
  {
   "cell_type": "markdown",
   "metadata": {},
   "source": [
    "# Create plots"
   ]
  },
  {
   "cell_type": "code",
   "execution_count": 3,
   "metadata": {},
   "outputs": [],
   "source": [
    "### Default data used for all plotting ###\n",
    "##########################################\n",
    "\n",
    "# Default input case\n",
    "dict_default_input = {\n",
    "    'velocity':70, \n",
    "    'launch_angle_deg':12, \n",
    "    'spin_rpm':5000, \n",
    "    'windspeed':8, \n",
    "    'windheading_deg':100, \n",
    "    'spin_angle_deg':-10, \n",
    "    'off_center_angle_deg':-8}\n",
    "\n",
    "# Ranges \n",
    "dict_ranges = {\n",
    "    'velocity':(10, 90), \n",
    "    'launch_angle_deg':(6, 30), \n",
    "    'spin_rpm':(1000, 9000), \n",
    "    'windspeed':(0, 8), \n",
    "    'windheading_deg':(-90, 270), # [-90, 90] = tail wind\n",
    "    'spin_angle_deg':(-45, 45), \n",
    "    'off_center_angle_deg':(-45, 45)}\n"
   ]
  },
  {
   "cell_type": "markdown",
   "metadata": {},
   "source": [
    "### Ball trajectory plot"
   ]
  },
  {
   "cell_type": "code",
   "execution_count": 4,
   "metadata": {},
   "outputs": [
    {
     "data": {
      "application/vnd.plotly.v1+json": {
       "config": {
        "linkText": "Export to plot.ly",
        "plotlyServerURL": "https://plot.ly",
        "showLink": false
       },
       "data": [
        {
         "marker": {
          "color": "rgb(255, 255, 255)",
          "line": {
           "color": "rgb(150, 150, 150)",
           "width": 1
          },
          "size": 3
         },
         "mode": "markers",
         "name": "trajectory",
         "type": "scatter3d",
         "x": [
          0,
          -0.9137969843184006,
          -1.7351499610849144,
          -2.471053170848218,
          -3.1277919483137553,
          -3.7110327302430988,
          -4.225899292705206,
          -4.67703763170902,
          -5.0686844503304656,
          -5.404782569521855,
          -5.68895855197203,
          -5.924524602489631,
          -6.114511863247872,
          -6.261699195024792,
          -6.368638788870103,
          -6.437678546951609,
          -6.470981719693754,
          -6.47054440829215,
          -6.438210968832612,
          -6.375687731706306,
          -6.284555226324408,
          -6.166279081286177,
          -6.022219814416408,
          -5.853641573107151,
          -5.6617200144953825,
          -5.447549401156958,
          -5.212149004779454,
          -4.956468898348601,
          -4.681395205542705,
          -4.387754865996707,
          -4.076319984151273,
          -3.74781176831585,
          -3.4029086753678714,
          -3.042304246726408,
          -2.6666854902164143,
          -2.276690889619548,
          -1.872912774154143,
          -1.4559005149007604,
          -1.0261634154404387,
          -0.5841734147133814,
          -0.13036759592686453,
          0.3348494731170253,
          0.8111035512923597,
          1.2980486787225802,
          1.7953652536535518,
          2.302758200866543,
          2.819955254027012,
          3.346705326924288,
          3.8827769656822717,
          4.4279568807438405,
          4.982048553203272,
          5.544870920576253,
          6.116257117257055,
          6.69605329163743,
          7.284117505117036,
          7.880318670209163,
          8.484535582326401,
          9.096655993000024,
          9.716575761734944,
          10.344198062506539,
          10.979432654519306,
          11.622195210486106,
          12.272406698451162,
          12.929992821354583,
          13.594883503180975,
          14.26701242569822,
          14.946316608754097,
          15.632736035608746,
          16.326213306521062,
          17.026693340949624,
          17.734123103914815,
          18.448451363782485,
          19.169628477857856,
          19.897606200871966
         ],
         "y": [
          0,
          6.70426542899275,
          13.131659426015881,
          19.299544932146567,
          25.223837680082788,
          30.919167834547054,
          36.39901929255096,
          41.675850224477074,
          46.76121647701088,
          51.66596913928918,
          56.400256267512475,
          60.973542004112026,
          65.39466570709614,
          69.67189437174713,
          73.8129702542684,
          77.8251533951035,
          81.71525972605669,
          85.48969565005123,
          89.15448911310418,
          92.71531777548766,
          96.17753456732243,
          99.546190886053,
          102.82605776554851,
          106.02164512096066,
          109.13721936452728,
          112.17681952243868,
          115.14427200960195,
          118.04320419783146,
          120.87705689808607,
          123.64909586202899,
          126.36242242071346,
          129.01998328682555,
          131.62458253804172,
          134.17892274946422,
          136.68558965045256,
          139.14702874692253,
          141.56555216555307,
          143.9433462429939,
          146.28247885758333,
          148.58490662485013,
          150.85248196284454,
          153.08695999060043,
          155.29000525127685,
          157.46319824757467,
          159.6080417756208,
          161.7259670618945,
          163.81833965582996,
          165.886465067865,
          167.9315941354579,
          169.95492809509693,
          171.95762333724218,
          173.94079586755322,
          175.90552535195712,
          177.85285885947297,
          179.78381427215555,
          181.69938324874934,
          183.6005339505132,
          185.48821329119272,
          187.3633489451493,
          189.2268509513231,
          191.07961308117876,
          192.92251384688464,
          194.75641729887693,
          196.58217352907965,
          198.40061898984754,
          200.21257658622145,
          202.018855607459,
          203.82025148497092,
          205.6175454776101,
          207.41150419097005,
          209.20287902553497,
          210.9924055711262,
          212.78080295258096,
          214.56877311985613
         ],
         "z": [
          0,
          1.486291597750704,
          2.9983559585112,
          4.527136106612549,
          6.064652354138216,
          7.603854420409493,
          9.138497203687397,
          10.66303592718303,
          12.1724629726026,
          13.661850756300545,
          15.126642915578534,
          16.562792499865118,
          17.966701170274835,
          19.335166907612063,
          20.66533790879229,
          21.95467271333945,
          23.200905601969122,
          24.402016071864,
          25.556202309573905,
          26.661857852234576,
          27.71755106880552,
          28.72200713258468,
          29.674092072715407,
          30.572798793182407,
          31.417234696858383,
          32.20661077519314,
          32.94023199208994,
          33.6174888127164,
          34.23784975164204,
          34.80085483379687,
          35.306109843989034,
          35.75328135723342,
          36.14206673416046,
          36.471881234222735,
          36.741994096780815,
          36.95177996189028,
          37.10071735435788,
          37.188382157321946,
          37.214442024948866,
          37.178651387479626,
          37.0808470699689,
          36.92094440594624,
          36.69893377357869,
          36.41487750947791,
          36.068907108089796,
          35.66122059423301,
          35.19208011175271,
          34.66180962361065,
          34.070792684304145,
          33.4194702591999,
          32.70833855652482,
          31.937946907361365,
          31.108895518353002,
          30.221833255310475,
          29.277455481638047,
          28.27650167770776,
          27.21975323505092,
          26.10803103460516,
          24.942193144600076,
          23.723132413182775,
          22.45177412747361,
          21.129073627135842,
          19.75601396030279,
          18.333603546590073,
          16.862873876630825,
          15.34487724092208,
          13.780684504235152,
          12.171382930977702,
          10.518074037569821,
          8.821871539039783,
          7.08389930722973,
          5.305289413481313,
          3.4871802388524973,
          1.6307146147319047
         ]
        }
       ],
       "layout": {
        "margin": {
         "t": 10
        },
        "scene": {
         "aspectmode": "manual",
         "aspectratio": {
          "x": 1,
          "y": 2.5,
          "z": 1
         },
         "camera": {
          "eye": {
           "x": -2.2,
           "y": 0.2,
           "z": 0.3
          }
         },
         "xaxis": {
          "backgroundcolor": "rgb(165, 210, 247)",
          "gridcolor": "rgb(255, 255, 255)",
          "range": [
           -24.897606200871966,
           24.897606200871966
          ],
          "showbackground": true,
          "title": {
           "text": "x"
          },
          "zerolinecolor": "rgb(255, 255, 255)"
         },
         "yaxis": {
          "backgroundcolor": "rgb(165, 210, 247)",
          "gridcolor": "rgb(255, 255, 255)",
          "range": [
           0,
           236.02565043184177
          ],
          "showbackground": true,
          "title": {
           "text": "y"
          },
          "zerolinecolor": "rgb(255, 255, 255)"
         },
         "zaxis": {
          "backgroundcolor": "rgb(148, 206, 161)",
          "gridcolor": "rgb(255, 255, 255)",
          "range": [
           0,
           37.214442024948866
          ],
          "showbackground": true,
          "title": {
           "text": ""
          },
          "zerolinecolor": "rgb(255, 255, 255)"
         }
        },
        "showlegend": false,
        "template": {
         "data": {
          "bar": [
           {
            "error_x": {
             "color": "#2a3f5f"
            },
            "error_y": {
             "color": "#2a3f5f"
            },
            "marker": {
             "line": {
              "color": "#E5ECF6",
              "width": 0.5
             },
             "pattern": {
              "fillmode": "overlay",
              "size": 10,
              "solidity": 0.2
             }
            },
            "type": "bar"
           }
          ],
          "barpolar": [
           {
            "marker": {
             "line": {
              "color": "#E5ECF6",
              "width": 0.5
             },
             "pattern": {
              "fillmode": "overlay",
              "size": 10,
              "solidity": 0.2
             }
            },
            "type": "barpolar"
           }
          ],
          "carpet": [
           {
            "aaxis": {
             "endlinecolor": "#2a3f5f",
             "gridcolor": "white",
             "linecolor": "white",
             "minorgridcolor": "white",
             "startlinecolor": "#2a3f5f"
            },
            "baxis": {
             "endlinecolor": "#2a3f5f",
             "gridcolor": "white",
             "linecolor": "white",
             "minorgridcolor": "white",
             "startlinecolor": "#2a3f5f"
            },
            "type": "carpet"
           }
          ],
          "choropleth": [
           {
            "colorbar": {
             "outlinewidth": 0,
             "ticks": ""
            },
            "type": "choropleth"
           }
          ],
          "contour": [
           {
            "colorbar": {
             "outlinewidth": 0,
             "ticks": ""
            },
            "colorscale": [
             [
              0,
              "#0d0887"
             ],
             [
              0.1111111111111111,
              "#46039f"
             ],
             [
              0.2222222222222222,
              "#7201a8"
             ],
             [
              0.3333333333333333,
              "#9c179e"
             ],
             [
              0.4444444444444444,
              "#bd3786"
             ],
             [
              0.5555555555555556,
              "#d8576b"
             ],
             [
              0.6666666666666666,
              "#ed7953"
             ],
             [
              0.7777777777777778,
              "#fb9f3a"
             ],
             [
              0.8888888888888888,
              "#fdca26"
             ],
             [
              1,
              "#f0f921"
             ]
            ],
            "type": "contour"
           }
          ],
          "contourcarpet": [
           {
            "colorbar": {
             "outlinewidth": 0,
             "ticks": ""
            },
            "type": "contourcarpet"
           }
          ],
          "heatmap": [
           {
            "colorbar": {
             "outlinewidth": 0,
             "ticks": ""
            },
            "colorscale": [
             [
              0,
              "#0d0887"
             ],
             [
              0.1111111111111111,
              "#46039f"
             ],
             [
              0.2222222222222222,
              "#7201a8"
             ],
             [
              0.3333333333333333,
              "#9c179e"
             ],
             [
              0.4444444444444444,
              "#bd3786"
             ],
             [
              0.5555555555555556,
              "#d8576b"
             ],
             [
              0.6666666666666666,
              "#ed7953"
             ],
             [
              0.7777777777777778,
              "#fb9f3a"
             ],
             [
              0.8888888888888888,
              "#fdca26"
             ],
             [
              1,
              "#f0f921"
             ]
            ],
            "type": "heatmap"
           }
          ],
          "heatmapgl": [
           {
            "colorbar": {
             "outlinewidth": 0,
             "ticks": ""
            },
            "colorscale": [
             [
              0,
              "#0d0887"
             ],
             [
              0.1111111111111111,
              "#46039f"
             ],
             [
              0.2222222222222222,
              "#7201a8"
             ],
             [
              0.3333333333333333,
              "#9c179e"
             ],
             [
              0.4444444444444444,
              "#bd3786"
             ],
             [
              0.5555555555555556,
              "#d8576b"
             ],
             [
              0.6666666666666666,
              "#ed7953"
             ],
             [
              0.7777777777777778,
              "#fb9f3a"
             ],
             [
              0.8888888888888888,
              "#fdca26"
             ],
             [
              1,
              "#f0f921"
             ]
            ],
            "type": "heatmapgl"
           }
          ],
          "histogram": [
           {
            "marker": {
             "pattern": {
              "fillmode": "overlay",
              "size": 10,
              "solidity": 0.2
             }
            },
            "type": "histogram"
           }
          ],
          "histogram2d": [
           {
            "colorbar": {
             "outlinewidth": 0,
             "ticks": ""
            },
            "colorscale": [
             [
              0,
              "#0d0887"
             ],
             [
              0.1111111111111111,
              "#46039f"
             ],
             [
              0.2222222222222222,
              "#7201a8"
             ],
             [
              0.3333333333333333,
              "#9c179e"
             ],
             [
              0.4444444444444444,
              "#bd3786"
             ],
             [
              0.5555555555555556,
              "#d8576b"
             ],
             [
              0.6666666666666666,
              "#ed7953"
             ],
             [
              0.7777777777777778,
              "#fb9f3a"
             ],
             [
              0.8888888888888888,
              "#fdca26"
             ],
             [
              1,
              "#f0f921"
             ]
            ],
            "type": "histogram2d"
           }
          ],
          "histogram2dcontour": [
           {
            "colorbar": {
             "outlinewidth": 0,
             "ticks": ""
            },
            "colorscale": [
             [
              0,
              "#0d0887"
             ],
             [
              0.1111111111111111,
              "#46039f"
             ],
             [
              0.2222222222222222,
              "#7201a8"
             ],
             [
              0.3333333333333333,
              "#9c179e"
             ],
             [
              0.4444444444444444,
              "#bd3786"
             ],
             [
              0.5555555555555556,
              "#d8576b"
             ],
             [
              0.6666666666666666,
              "#ed7953"
             ],
             [
              0.7777777777777778,
              "#fb9f3a"
             ],
             [
              0.8888888888888888,
              "#fdca26"
             ],
             [
              1,
              "#f0f921"
             ]
            ],
            "type": "histogram2dcontour"
           }
          ],
          "mesh3d": [
           {
            "colorbar": {
             "outlinewidth": 0,
             "ticks": ""
            },
            "type": "mesh3d"
           }
          ],
          "parcoords": [
           {
            "line": {
             "colorbar": {
              "outlinewidth": 0,
              "ticks": ""
             }
            },
            "type": "parcoords"
           }
          ],
          "pie": [
           {
            "automargin": true,
            "type": "pie"
           }
          ],
          "scatter": [
           {
            "fillpattern": {
             "fillmode": "overlay",
             "size": 10,
             "solidity": 0.2
            },
            "type": "scatter"
           }
          ],
          "scatter3d": [
           {
            "line": {
             "colorbar": {
              "outlinewidth": 0,
              "ticks": ""
             }
            },
            "marker": {
             "colorbar": {
              "outlinewidth": 0,
              "ticks": ""
             }
            },
            "type": "scatter3d"
           }
          ],
          "scattercarpet": [
           {
            "marker": {
             "colorbar": {
              "outlinewidth": 0,
              "ticks": ""
             }
            },
            "type": "scattercarpet"
           }
          ],
          "scattergeo": [
           {
            "marker": {
             "colorbar": {
              "outlinewidth": 0,
              "ticks": ""
             }
            },
            "type": "scattergeo"
           }
          ],
          "scattergl": [
           {
            "marker": {
             "colorbar": {
              "outlinewidth": 0,
              "ticks": ""
             }
            },
            "type": "scattergl"
           }
          ],
          "scattermapbox": [
           {
            "marker": {
             "colorbar": {
              "outlinewidth": 0,
              "ticks": ""
             }
            },
            "type": "scattermapbox"
           }
          ],
          "scatterpolar": [
           {
            "marker": {
             "colorbar": {
              "outlinewidth": 0,
              "ticks": ""
             }
            },
            "type": "scatterpolar"
           }
          ],
          "scatterpolargl": [
           {
            "marker": {
             "colorbar": {
              "outlinewidth": 0,
              "ticks": ""
             }
            },
            "type": "scatterpolargl"
           }
          ],
          "scatterternary": [
           {
            "marker": {
             "colorbar": {
              "outlinewidth": 0,
              "ticks": ""
             }
            },
            "type": "scatterternary"
           }
          ],
          "surface": [
           {
            "colorbar": {
             "outlinewidth": 0,
             "ticks": ""
            },
            "colorscale": [
             [
              0,
              "#0d0887"
             ],
             [
              0.1111111111111111,
              "#46039f"
             ],
             [
              0.2222222222222222,
              "#7201a8"
             ],
             [
              0.3333333333333333,
              "#9c179e"
             ],
             [
              0.4444444444444444,
              "#bd3786"
             ],
             [
              0.5555555555555556,
              "#d8576b"
             ],
             [
              0.6666666666666666,
              "#ed7953"
             ],
             [
              0.7777777777777778,
              "#fb9f3a"
             ],
             [
              0.8888888888888888,
              "#fdca26"
             ],
             [
              1,
              "#f0f921"
             ]
            ],
            "type": "surface"
           }
          ],
          "table": [
           {
            "cells": {
             "fill": {
              "color": "#EBF0F8"
             },
             "line": {
              "color": "white"
             }
            },
            "header": {
             "fill": {
              "color": "#C8D4E3"
             },
             "line": {
              "color": "white"
             }
            },
            "type": "table"
           }
          ]
         },
         "layout": {
          "annotationdefaults": {
           "arrowcolor": "#2a3f5f",
           "arrowhead": 0,
           "arrowwidth": 1
          },
          "autotypenumbers": "strict",
          "coloraxis": {
           "colorbar": {
            "outlinewidth": 0,
            "ticks": ""
           }
          },
          "colorscale": {
           "diverging": [
            [
             0,
             "#8e0152"
            ],
            [
             0.1,
             "#c51b7d"
            ],
            [
             0.2,
             "#de77ae"
            ],
            [
             0.3,
             "#f1b6da"
            ],
            [
             0.4,
             "#fde0ef"
            ],
            [
             0.5,
             "#f7f7f7"
            ],
            [
             0.6,
             "#e6f5d0"
            ],
            [
             0.7,
             "#b8e186"
            ],
            [
             0.8,
             "#7fbc41"
            ],
            [
             0.9,
             "#4d9221"
            ],
            [
             1,
             "#276419"
            ]
           ],
           "sequential": [
            [
             0,
             "#0d0887"
            ],
            [
             0.1111111111111111,
             "#46039f"
            ],
            [
             0.2222222222222222,
             "#7201a8"
            ],
            [
             0.3333333333333333,
             "#9c179e"
            ],
            [
             0.4444444444444444,
             "#bd3786"
            ],
            [
             0.5555555555555556,
             "#d8576b"
            ],
            [
             0.6666666666666666,
             "#ed7953"
            ],
            [
             0.7777777777777778,
             "#fb9f3a"
            ],
            [
             0.8888888888888888,
             "#fdca26"
            ],
            [
             1,
             "#f0f921"
            ]
           ],
           "sequentialminus": [
            [
             0,
             "#0d0887"
            ],
            [
             0.1111111111111111,
             "#46039f"
            ],
            [
             0.2222222222222222,
             "#7201a8"
            ],
            [
             0.3333333333333333,
             "#9c179e"
            ],
            [
             0.4444444444444444,
             "#bd3786"
            ],
            [
             0.5555555555555556,
             "#d8576b"
            ],
            [
             0.6666666666666666,
             "#ed7953"
            ],
            [
             0.7777777777777778,
             "#fb9f3a"
            ],
            [
             0.8888888888888888,
             "#fdca26"
            ],
            [
             1,
             "#f0f921"
            ]
           ]
          },
          "colorway": [
           "#636efa",
           "#EF553B",
           "#00cc96",
           "#ab63fa",
           "#FFA15A",
           "#19d3f3",
           "#FF6692",
           "#B6E880",
           "#FF97FF",
           "#FECB52"
          ],
          "font": {
           "color": "#2a3f5f"
          },
          "geo": {
           "bgcolor": "white",
           "lakecolor": "white",
           "landcolor": "#E5ECF6",
           "showlakes": true,
           "showland": true,
           "subunitcolor": "white"
          },
          "hoverlabel": {
           "align": "left"
          },
          "hovermode": "closest",
          "mapbox": {
           "style": "light"
          },
          "paper_bgcolor": "white",
          "plot_bgcolor": "#E5ECF6",
          "polar": {
           "angularaxis": {
            "gridcolor": "white",
            "linecolor": "white",
            "ticks": ""
           },
           "bgcolor": "#E5ECF6",
           "radialaxis": {
            "gridcolor": "white",
            "linecolor": "white",
            "ticks": ""
           }
          },
          "scene": {
           "xaxis": {
            "backgroundcolor": "#E5ECF6",
            "gridcolor": "white",
            "gridwidth": 2,
            "linecolor": "white",
            "showbackground": true,
            "ticks": "",
            "zerolinecolor": "white"
           },
           "yaxis": {
            "backgroundcolor": "#E5ECF6",
            "gridcolor": "white",
            "gridwidth": 2,
            "linecolor": "white",
            "showbackground": true,
            "ticks": "",
            "zerolinecolor": "white"
           },
           "zaxis": {
            "backgroundcolor": "#E5ECF6",
            "gridcolor": "white",
            "gridwidth": 2,
            "linecolor": "white",
            "showbackground": true,
            "ticks": "",
            "zerolinecolor": "white"
           }
          },
          "shapedefaults": {
           "line": {
            "color": "#2a3f5f"
           }
          },
          "ternary": {
           "aaxis": {
            "gridcolor": "white",
            "linecolor": "white",
            "ticks": ""
           },
           "baxis": {
            "gridcolor": "white",
            "linecolor": "white",
            "ticks": ""
           },
           "bgcolor": "#E5ECF6",
           "caxis": {
            "gridcolor": "white",
            "linecolor": "white",
            "ticks": ""
           }
          },
          "title": {
           "x": 0.05
          },
          "xaxis": {
           "automargin": true,
           "gridcolor": "white",
           "linecolor": "white",
           "ticks": "",
           "title": {
            "standoff": 15
           },
           "zerolinecolor": "white",
           "zerolinewidth": 2
          },
          "yaxis": {
           "automargin": true,
           "gridcolor": "white",
           "linecolor": "white",
           "ticks": "",
           "title": {
            "standoff": 15
           },
           "zerolinecolor": "white",
           "zerolinewidth": 2
          }
         }
        },
        "title": {
         "text": ""
        }
       }
      },
      "text/html": [
       "<div>                            <div id=\"af58fa87-e813-4303-9561-7912ddbd208f\" class=\"plotly-graph-div\" style=\"height:525px; width:100%;\"></div>            <script type=\"text/javascript\">                require([\"plotly\"], function(Plotly) {                    window.PLOTLYENV=window.PLOTLYENV || {};                                    if (document.getElementById(\"af58fa87-e813-4303-9561-7912ddbd208f\")) {                    Plotly.newPlot(                        \"af58fa87-e813-4303-9561-7912ddbd208f\",                        [{\"marker\":{\"color\":\"rgb(255, 255, 255)\",\"line\":{\"color\":\"rgb(150, 150, 150)\",\"width\":1},\"size\":3},\"mode\":\"markers\",\"name\":\"trajectory\",\"x\":[0.0,-0.9137969843184006,-1.7351499610849144,-2.471053170848218,-3.1277919483137553,-3.7110327302430988,-4.225899292705206,-4.67703763170902,-5.0686844503304656,-5.404782569521855,-5.68895855197203,-5.924524602489631,-6.114511863247872,-6.261699195024792,-6.368638788870103,-6.437678546951609,-6.470981719693754,-6.47054440829215,-6.438210968832612,-6.375687731706306,-6.284555226324408,-6.166279081286177,-6.022219814416408,-5.853641573107151,-5.6617200144953825,-5.447549401156958,-5.212149004779454,-4.956468898348601,-4.681395205542705,-4.387754865996707,-4.076319984151273,-3.74781176831585,-3.4029086753678714,-3.042304246726408,-2.6666854902164143,-2.276690889619548,-1.872912774154143,-1.4559005149007604,-1.0261634154404387,-0.5841734147133814,-0.13036759592686453,0.3348494731170253,0.8111035512923597,1.2980486787225802,1.7953652536535518,2.302758200866543,2.819955254027012,3.346705326924288,3.8827769656822717,4.4279568807438405,4.982048553203272,5.544870920576253,6.116257117257055,6.69605329163743,7.284117505117036,7.880318670209163,8.484535582326401,9.096655993000024,9.716575761734944,10.344198062506539,10.979432654519306,11.622195210486106,12.272406698451162,12.929992821354583,13.594883503180975,14.26701242569822,14.946316608754097,15.632736035608746,16.326213306521062,17.026693340949624,17.734123103914815,18.448451363782485,19.169628477857856,19.897606200871966],\"y\":[0.0,6.70426542899275,13.131659426015881,19.299544932146567,25.223837680082788,30.919167834547054,36.39901929255096,41.675850224477074,46.76121647701088,51.66596913928918,56.400256267512475,60.973542004112026,65.39466570709614,69.67189437174713,73.8129702542684,77.8251533951035,81.71525972605669,85.48969565005123,89.15448911310418,92.71531777548766,96.17753456732243,99.546190886053,102.82605776554851,106.02164512096066,109.13721936452728,112.17681952243868,115.14427200960195,118.04320419783146,120.87705689808607,123.64909586202899,126.36242242071346,129.01998328682555,131.62458253804172,134.17892274946422,136.68558965045256,139.14702874692253,141.56555216555307,143.9433462429939,146.28247885758333,148.58490662485013,150.85248196284454,153.08695999060043,155.29000525127685,157.46319824757467,159.6080417756208,161.7259670618945,163.81833965582996,165.886465067865,167.9315941354579,169.95492809509693,171.95762333724218,173.94079586755322,175.90552535195712,177.85285885947297,179.78381427215555,181.69938324874934,183.6005339505132,185.48821329119272,187.3633489451493,189.2268509513231,191.07961308117876,192.92251384688464,194.75641729887693,196.58217352907965,198.40061898984754,200.21257658622145,202.018855607459,203.82025148497092,205.6175454776101,207.41150419097005,209.20287902553497,210.9924055711262,212.78080295258096,214.56877311985613],\"z\":[0.0,1.486291597750704,2.9983559585112,4.527136106612549,6.064652354138216,7.603854420409493,9.138497203687397,10.66303592718303,12.1724629726026,13.661850756300545,15.126642915578534,16.562792499865118,17.966701170274835,19.335166907612063,20.66533790879229,21.95467271333945,23.200905601969122,24.402016071864,25.556202309573905,26.661857852234576,27.71755106880552,28.72200713258468,29.674092072715407,30.572798793182407,31.417234696858383,32.20661077519314,32.94023199208994,33.6174888127164,34.23784975164204,34.80085483379687,35.306109843989034,35.75328135723342,36.14206673416046,36.471881234222735,36.741994096780815,36.95177996189028,37.10071735435788,37.188382157321946,37.214442024948866,37.178651387479626,37.0808470699689,36.92094440594624,36.69893377357869,36.41487750947791,36.068907108089796,35.66122059423301,35.19208011175271,34.66180962361065,34.070792684304145,33.4194702591999,32.70833855652482,31.937946907361365,31.108895518353002,30.221833255310475,29.277455481638047,28.27650167770776,27.21975323505092,26.10803103460516,24.942193144600076,23.723132413182775,22.45177412747361,21.129073627135842,19.75601396030279,18.333603546590073,16.862873876630825,15.34487724092208,13.780684504235152,12.171382930977702,10.518074037569821,8.821871539039783,7.08389930722973,5.305289413481313,3.4871802388524973,1.6307146147319047],\"type\":\"scatter3d\"}],                        {\"margin\":{\"t\":10},\"scene\":{\"aspectmode\":\"manual\",\"aspectratio\":{\"x\":1,\"y\":2.5,\"z\":1},\"camera\":{\"eye\":{\"x\":-2.2,\"y\":0.2,\"z\":0.3}},\"xaxis\":{\"backgroundcolor\":\"rgb(165, 210, 247)\",\"gridcolor\":\"rgb(255, 255, 255)\",\"range\":[-24.897606200871966,24.897606200871966],\"showbackground\":true,\"title\":{\"text\":\"x\"},\"zerolinecolor\":\"rgb(255, 255, 255)\"},\"yaxis\":{\"backgroundcolor\":\"rgb(165, 210, 247)\",\"gridcolor\":\"rgb(255, 255, 255)\",\"range\":[0,236.02565043184177],\"showbackground\":true,\"title\":{\"text\":\"y\"},\"zerolinecolor\":\"rgb(255, 255, 255)\"},\"zaxis\":{\"backgroundcolor\":\"rgb(148, 206, 161)\",\"gridcolor\":\"rgb(255, 255, 255)\",\"range\":[0,37.214442024948866],\"showbackground\":true,\"title\":{\"text\":\"\"},\"zerolinecolor\":\"rgb(255, 255, 255)\"}},\"showlegend\":false,\"template\":{\"data\":{\"barpolar\":[{\"marker\":{\"line\":{\"color\":\"#E5ECF6\",\"width\":0.5},\"pattern\":{\"fillmode\":\"overlay\",\"size\":10,\"solidity\":0.2}},\"type\":\"barpolar\"}],\"bar\":[{\"error_x\":{\"color\":\"#2a3f5f\"},\"error_y\":{\"color\":\"#2a3f5f\"},\"marker\":{\"line\":{\"color\":\"#E5ECF6\",\"width\":0.5},\"pattern\":{\"fillmode\":\"overlay\",\"size\":10,\"solidity\":0.2}},\"type\":\"bar\"}],\"carpet\":[{\"aaxis\":{\"endlinecolor\":\"#2a3f5f\",\"gridcolor\":\"white\",\"linecolor\":\"white\",\"minorgridcolor\":\"white\",\"startlinecolor\":\"#2a3f5f\"},\"baxis\":{\"endlinecolor\":\"#2a3f5f\",\"gridcolor\":\"white\",\"linecolor\":\"white\",\"minorgridcolor\":\"white\",\"startlinecolor\":\"#2a3f5f\"},\"type\":\"carpet\"}],\"choropleth\":[{\"colorbar\":{\"outlinewidth\":0,\"ticks\":\"\"},\"type\":\"choropleth\"}],\"contourcarpet\":[{\"colorbar\":{\"outlinewidth\":0,\"ticks\":\"\"},\"type\":\"contourcarpet\"}],\"contour\":[{\"colorbar\":{\"outlinewidth\":0,\"ticks\":\"\"},\"colorscale\":[[0.0,\"#0d0887\"],[0.1111111111111111,\"#46039f\"],[0.2222222222222222,\"#7201a8\"],[0.3333333333333333,\"#9c179e\"],[0.4444444444444444,\"#bd3786\"],[0.5555555555555556,\"#d8576b\"],[0.6666666666666666,\"#ed7953\"],[0.7777777777777778,\"#fb9f3a\"],[0.8888888888888888,\"#fdca26\"],[1.0,\"#f0f921\"]],\"type\":\"contour\"}],\"heatmapgl\":[{\"colorbar\":{\"outlinewidth\":0,\"ticks\":\"\"},\"colorscale\":[[0.0,\"#0d0887\"],[0.1111111111111111,\"#46039f\"],[0.2222222222222222,\"#7201a8\"],[0.3333333333333333,\"#9c179e\"],[0.4444444444444444,\"#bd3786\"],[0.5555555555555556,\"#d8576b\"],[0.6666666666666666,\"#ed7953\"],[0.7777777777777778,\"#fb9f3a\"],[0.8888888888888888,\"#fdca26\"],[1.0,\"#f0f921\"]],\"type\":\"heatmapgl\"}],\"heatmap\":[{\"colorbar\":{\"outlinewidth\":0,\"ticks\":\"\"},\"colorscale\":[[0.0,\"#0d0887\"],[0.1111111111111111,\"#46039f\"],[0.2222222222222222,\"#7201a8\"],[0.3333333333333333,\"#9c179e\"],[0.4444444444444444,\"#bd3786\"],[0.5555555555555556,\"#d8576b\"],[0.6666666666666666,\"#ed7953\"],[0.7777777777777778,\"#fb9f3a\"],[0.8888888888888888,\"#fdca26\"],[1.0,\"#f0f921\"]],\"type\":\"heatmap\"}],\"histogram2dcontour\":[{\"colorbar\":{\"outlinewidth\":0,\"ticks\":\"\"},\"colorscale\":[[0.0,\"#0d0887\"],[0.1111111111111111,\"#46039f\"],[0.2222222222222222,\"#7201a8\"],[0.3333333333333333,\"#9c179e\"],[0.4444444444444444,\"#bd3786\"],[0.5555555555555556,\"#d8576b\"],[0.6666666666666666,\"#ed7953\"],[0.7777777777777778,\"#fb9f3a\"],[0.8888888888888888,\"#fdca26\"],[1.0,\"#f0f921\"]],\"type\":\"histogram2dcontour\"}],\"histogram2d\":[{\"colorbar\":{\"outlinewidth\":0,\"ticks\":\"\"},\"colorscale\":[[0.0,\"#0d0887\"],[0.1111111111111111,\"#46039f\"],[0.2222222222222222,\"#7201a8\"],[0.3333333333333333,\"#9c179e\"],[0.4444444444444444,\"#bd3786\"],[0.5555555555555556,\"#d8576b\"],[0.6666666666666666,\"#ed7953\"],[0.7777777777777778,\"#fb9f3a\"],[0.8888888888888888,\"#fdca26\"],[1.0,\"#f0f921\"]],\"type\":\"histogram2d\"}],\"histogram\":[{\"marker\":{\"pattern\":{\"fillmode\":\"overlay\",\"size\":10,\"solidity\":0.2}},\"type\":\"histogram\"}],\"mesh3d\":[{\"colorbar\":{\"outlinewidth\":0,\"ticks\":\"\"},\"type\":\"mesh3d\"}],\"parcoords\":[{\"line\":{\"colorbar\":{\"outlinewidth\":0,\"ticks\":\"\"}},\"type\":\"parcoords\"}],\"pie\":[{\"automargin\":true,\"type\":\"pie\"}],\"scatter3d\":[{\"line\":{\"colorbar\":{\"outlinewidth\":0,\"ticks\":\"\"}},\"marker\":{\"colorbar\":{\"outlinewidth\":0,\"ticks\":\"\"}},\"type\":\"scatter3d\"}],\"scattercarpet\":[{\"marker\":{\"colorbar\":{\"outlinewidth\":0,\"ticks\":\"\"}},\"type\":\"scattercarpet\"}],\"scattergeo\":[{\"marker\":{\"colorbar\":{\"outlinewidth\":0,\"ticks\":\"\"}},\"type\":\"scattergeo\"}],\"scattergl\":[{\"marker\":{\"colorbar\":{\"outlinewidth\":0,\"ticks\":\"\"}},\"type\":\"scattergl\"}],\"scattermapbox\":[{\"marker\":{\"colorbar\":{\"outlinewidth\":0,\"ticks\":\"\"}},\"type\":\"scattermapbox\"}],\"scatterpolargl\":[{\"marker\":{\"colorbar\":{\"outlinewidth\":0,\"ticks\":\"\"}},\"type\":\"scatterpolargl\"}],\"scatterpolar\":[{\"marker\":{\"colorbar\":{\"outlinewidth\":0,\"ticks\":\"\"}},\"type\":\"scatterpolar\"}],\"scatter\":[{\"fillpattern\":{\"fillmode\":\"overlay\",\"size\":10,\"solidity\":0.2},\"type\":\"scatter\"}],\"scatterternary\":[{\"marker\":{\"colorbar\":{\"outlinewidth\":0,\"ticks\":\"\"}},\"type\":\"scatterternary\"}],\"surface\":[{\"colorbar\":{\"outlinewidth\":0,\"ticks\":\"\"},\"colorscale\":[[0.0,\"#0d0887\"],[0.1111111111111111,\"#46039f\"],[0.2222222222222222,\"#7201a8\"],[0.3333333333333333,\"#9c179e\"],[0.4444444444444444,\"#bd3786\"],[0.5555555555555556,\"#d8576b\"],[0.6666666666666666,\"#ed7953\"],[0.7777777777777778,\"#fb9f3a\"],[0.8888888888888888,\"#fdca26\"],[1.0,\"#f0f921\"]],\"type\":\"surface\"}],\"table\":[{\"cells\":{\"fill\":{\"color\":\"#EBF0F8\"},\"line\":{\"color\":\"white\"}},\"header\":{\"fill\":{\"color\":\"#C8D4E3\"},\"line\":{\"color\":\"white\"}},\"type\":\"table\"}]},\"layout\":{\"annotationdefaults\":{\"arrowcolor\":\"#2a3f5f\",\"arrowhead\":0,\"arrowwidth\":1},\"autotypenumbers\":\"strict\",\"coloraxis\":{\"colorbar\":{\"outlinewidth\":0,\"ticks\":\"\"}},\"colorscale\":{\"diverging\":[[0,\"#8e0152\"],[0.1,\"#c51b7d\"],[0.2,\"#de77ae\"],[0.3,\"#f1b6da\"],[0.4,\"#fde0ef\"],[0.5,\"#f7f7f7\"],[0.6,\"#e6f5d0\"],[0.7,\"#b8e186\"],[0.8,\"#7fbc41\"],[0.9,\"#4d9221\"],[1,\"#276419\"]],\"sequential\":[[0.0,\"#0d0887\"],[0.1111111111111111,\"#46039f\"],[0.2222222222222222,\"#7201a8\"],[0.3333333333333333,\"#9c179e\"],[0.4444444444444444,\"#bd3786\"],[0.5555555555555556,\"#d8576b\"],[0.6666666666666666,\"#ed7953\"],[0.7777777777777778,\"#fb9f3a\"],[0.8888888888888888,\"#fdca26\"],[1.0,\"#f0f921\"]],\"sequentialminus\":[[0.0,\"#0d0887\"],[0.1111111111111111,\"#46039f\"],[0.2222222222222222,\"#7201a8\"],[0.3333333333333333,\"#9c179e\"],[0.4444444444444444,\"#bd3786\"],[0.5555555555555556,\"#d8576b\"],[0.6666666666666666,\"#ed7953\"],[0.7777777777777778,\"#fb9f3a\"],[0.8888888888888888,\"#fdca26\"],[1.0,\"#f0f921\"]]},\"colorway\":[\"#636efa\",\"#EF553B\",\"#00cc96\",\"#ab63fa\",\"#FFA15A\",\"#19d3f3\",\"#FF6692\",\"#B6E880\",\"#FF97FF\",\"#FECB52\"],\"font\":{\"color\":\"#2a3f5f\"},\"geo\":{\"bgcolor\":\"white\",\"lakecolor\":\"white\",\"landcolor\":\"#E5ECF6\",\"showlakes\":true,\"showland\":true,\"subunitcolor\":\"white\"},\"hoverlabel\":{\"align\":\"left\"},\"hovermode\":\"closest\",\"mapbox\":{\"style\":\"light\"},\"paper_bgcolor\":\"white\",\"plot_bgcolor\":\"#E5ECF6\",\"polar\":{\"angularaxis\":{\"gridcolor\":\"white\",\"linecolor\":\"white\",\"ticks\":\"\"},\"bgcolor\":\"#E5ECF6\",\"radialaxis\":{\"gridcolor\":\"white\",\"linecolor\":\"white\",\"ticks\":\"\"}},\"scene\":{\"xaxis\":{\"backgroundcolor\":\"#E5ECF6\",\"gridcolor\":\"white\",\"gridwidth\":2,\"linecolor\":\"white\",\"showbackground\":true,\"ticks\":\"\",\"zerolinecolor\":\"white\"},\"yaxis\":{\"backgroundcolor\":\"#E5ECF6\",\"gridcolor\":\"white\",\"gridwidth\":2,\"linecolor\":\"white\",\"showbackground\":true,\"ticks\":\"\",\"zerolinecolor\":\"white\"},\"zaxis\":{\"backgroundcolor\":\"#E5ECF6\",\"gridcolor\":\"white\",\"gridwidth\":2,\"linecolor\":\"white\",\"showbackground\":true,\"ticks\":\"\",\"zerolinecolor\":\"white\"}},\"shapedefaults\":{\"line\":{\"color\":\"#2a3f5f\"}},\"ternary\":{\"aaxis\":{\"gridcolor\":\"white\",\"linecolor\":\"white\",\"ticks\":\"\"},\"baxis\":{\"gridcolor\":\"white\",\"linecolor\":\"white\",\"ticks\":\"\"},\"bgcolor\":\"#E5ECF6\",\"caxis\":{\"gridcolor\":\"white\",\"linecolor\":\"white\",\"ticks\":\"\"}},\"title\":{\"x\":0.05},\"xaxis\":{\"automargin\":true,\"gridcolor\":\"white\",\"linecolor\":\"white\",\"ticks\":\"\",\"title\":{\"standoff\":15},\"zerolinecolor\":\"white\",\"zerolinewidth\":2},\"yaxis\":{\"automargin\":true,\"gridcolor\":\"white\",\"linecolor\":\"white\",\"ticks\":\"\",\"title\":{\"standoff\":15},\"zerolinecolor\":\"white\",\"zerolinewidth\":2}}},\"title\":{\"text\":\"\"}},                        {\"responsive\": true}                    ).then(function(){\n",
       "                            \n",
       "var gd = document.getElementById('af58fa87-e813-4303-9561-7912ddbd208f');\n",
       "var x = new MutationObserver(function (mutations, observer) {{\n",
       "        var display = window.getComputedStyle(gd).display;\n",
       "        if (!display || display === 'none') {{\n",
       "            console.log([gd, 'removed!']);\n",
       "            Plotly.purge(gd);\n",
       "            observer.disconnect();\n",
       "        }}\n",
       "}});\n",
       "\n",
       "// Listen for the removal of the full notebook cells\n",
       "var notebookContainer = gd.closest('#notebook-container');\n",
       "if (notebookContainer) {{\n",
       "    x.observe(notebookContainer, {childList: true});\n",
       "}}\n",
       "\n",
       "// Listen for the clearing of the current output cell\n",
       "var outputEl = gd.closest('.output');\n",
       "if (outputEl) {{\n",
       "    x.observe(outputEl, {childList: true});\n",
       "}}\n",
       "\n",
       "                        })                };                });            </script>        </div>"
      ]
     },
     "metadata": {},
     "output_type": "display_data"
    },
    {
     "name": "stdout",
     "output_type": "stream",
     "text": [
      "Input: {'velocity': 70, 'launch_angle_deg': 12, 'spin_rpm': 5000, 'windspeed': 8, 'windheading_deg': 100, 'spin_angle_deg': -10, 'off_center_angle_deg': -8}\n",
      "Landing position: (216.1086812956981,20.530310393617565). Length = 217.08167996453292\n"
     ]
    }
   ],
   "source": [
    "# Run model\n",
    "golf_m.initiate_hit(**dict_default_input)\n",
    "df=golf_m.df_simres\n",
    "\n",
    "# Remove points where z<0\n",
    "trace0 = go.Scatter3d(x=df[df['z']>=0]['x'], y=df[df['z']>=0]['y'], z=df[df['z']>=0]['z'],\n",
    "                        mode='markers',\n",
    "                        marker = dict(\n",
    "                            color = 'rgb(255, 255, 255)',\n",
    "                            size = 3,\n",
    "                            line = dict(\n",
    "                                color = 'rgb(150, 150, 150)',\n",
    "                                width = 1\n",
    "                            )\n",
    "                        ),\n",
    "                        name='trajectory'\n",
    "                     )\n",
    "\n",
    "data = [trace0]\n",
    "\n",
    "abs_x = max(abs(df[df['z']>=0]['x'])) # For plotting\n",
    "scene=dict(\n",
    "    xaxis=dict(\n",
    "        gridcolor='rgb(255, 255, 255)',\n",
    "        zerolinecolor='rgb(255, 255, 255)',\n",
    "        showbackground=True,\n",
    "        backgroundcolor='rgb(165, 210, 247)',\n",
    "        range = [-abs_x - 5, abs_x + 5],\n",
    "        #range = [abs_x + 5, -abs_x - 5],\n",
    "        title = 'x'\n",
    "    ),\n",
    "    yaxis=dict(\n",
    "        gridcolor='rgb(255, 255, 255)',\n",
    "        zerolinecolor='rgb(255, 255, 255)',\n",
    "        showbackground=True,\n",
    "        backgroundcolor='rgb(165, 210, 247)',\n",
    "        range = [0,max(df[df['z']>=0]['y'])*1.1],\n",
    "        title = 'y'\n",
    "    ),\n",
    "    zaxis=dict(\n",
    "        gridcolor='rgb(255, 255, 255)',\n",
    "        zerolinecolor='rgb(255, 255, 255)',\n",
    "        showbackground=True,\n",
    "        backgroundcolor='rgb(148, 206, 161)',\n",
    "        range = [0, max(max(df['z']), 1)],\n",
    "        title = ''\n",
    "    ),\n",
    "    aspectratio = dict( x= 1, y= 2.5, z = 1 ),\n",
    "    #aspectratio = dict( x= 3, y= 1, z = 1 ),\n",
    "    aspectmode = 'manual',\n",
    "    camera = {'eye':{'x':-2.2, 'y':0.2, 'z':0.3}}\n",
    ")\n",
    "\n",
    "\n",
    "layout=go.Layout(title='', showlegend=False, margin={'t':10}, scene=scene)\n",
    "\n",
    "\n",
    "fig=go.Figure(data=data, layout=layout)\n",
    "pltlyoff.iplot(fig, filename='tmp', show_link=False)\n",
    "\n",
    "y2, y1, err = golf_m.get_landingpos(check = True, **dict_default_input)\n",
    "print('Input:', dict_default_input)\n",
    "print('Landing position: ({},{}). Length = {}'.format(y1, y2, np.linalg.norm([y1, y2])))"
   ]
  },
  {
   "cell_type": "markdown",
   "metadata": {},
   "source": [
    "### 2D plot of landing position for one single input"
   ]
  },
  {
   "cell_type": "code",
   "execution_count": 5,
   "metadata": {},
   "outputs": [
    {
     "data": {
      "application/vnd.plotly.v1+json": {
       "config": {
        "linkText": "Export to plot.ly",
        "plotlyServerURL": "https://plot.ly",
        "showLink": false
       },
       "data": [
        {
         "mode": "lines",
         "name": "y1",
         "type": "scatter",
         "x": [
          10,
          10.808080808080808,
          11.616161616161616,
          12.424242424242424,
          13.232323232323232,
          14.040404040404042,
          14.848484848484848,
          15.656565656565657,
          16.464646464646464,
          17.272727272727273,
          18.080808080808083,
          18.88888888888889,
          19.696969696969695,
          20.505050505050505,
          21.313131313131315,
          22.12121212121212,
          22.929292929292927,
          23.737373737373737,
          24.545454545454547,
          25.353535353535353,
          26.161616161616163,
          26.96969696969697,
          27.77777777777778,
          28.585858585858585,
          29.393939393939394,
          30.2020202020202,
          31.01010101010101,
          31.818181818181817,
          32.62626262626263,
          33.43434343434343,
          34.24242424242424,
          35.05050505050505,
          35.858585858585855,
          36.66666666666667,
          37.474747474747474,
          38.282828282828284,
          39.09090909090909,
          39.898989898989896,
          40.707070707070706,
          41.515151515151516,
          42.323232323232325,
          43.13131313131313,
          43.93939393939394,
          44.74747474747475,
          45.55555555555556,
          46.36363636363636,
          47.17171717171717,
          47.97979797979798,
          48.78787878787879,
          49.5959595959596,
          50.4040404040404,
          51.21212121212121,
          52.02020202020202,
          52.82828282828283,
          53.63636363636363,
          54.44444444444444,
          55.25252525252525,
          56.06060606060606,
          56.868686868686865,
          57.676767676767675,
          58.484848484848484,
          59.292929292929294,
          60.1010101010101,
          60.90909090909091,
          61.717171717171716,
          62.525252525252526,
          63.333333333333336,
          64.14141414141415,
          64.94949494949495,
          65.75757575757575,
          66.56565656565657,
          67.37373737373737,
          68.18181818181819,
          68.98989898989899,
          69.79797979797979,
          70.6060606060606,
          71.41414141414141,
          72.22222222222223,
          73.03030303030303,
          73.83838383838383,
          74.64646464646465,
          75.45454545454545,
          76.26262626262626,
          77.07070707070707,
          77.87878787878788,
          78.68686868686869,
          79.4949494949495,
          80.3030303030303,
          81.11111111111111,
          81.91919191919192,
          82.72727272727272,
          83.53535353535354,
          84.34343434343434,
          85.15151515151516,
          85.95959595959596,
          86.76767676767676,
          87.57575757575758,
          88.38383838383838,
          89.1919191919192,
          90
         ],
         "y": [
          4.352833759499152,
          5.180529209576692,
          6.000085277317187,
          6.978769445939016,
          7.963152095763825,
          9.101450235161943,
          10.26656081429589,
          11.596441547261826,
          12.943753784657542,
          14.459639837226545,
          16.03889332127675,
          17.74432661468407,
          19.599750672009453,
          21.517351647737502,
          23.58143273805667,
          25.79187922057173,
          28.14267450882504,
          30.59224796966628,
          33.18487607375027,
          35.89380311204534,
          38.70176611682231,
          41.60587644339369,
          44.60312980799624,
          47.69030998743675,
          50.86391367332201,
          54.12010126665898,
          57.45466066782654,
          60.862996443611905,
          64.3401298480843,
          67.88071310126898,
          71.47905829736088,
          75.12917867589167,
          78.82483523752217,
          82.54720969232653,
          86.29294317305654,
          90.06422917938247,
          93.85472066551247,
          97.65811932508463,
          101.46824335119643,
          105.27593786755645,
          109.06118856246985,
          112.83680710767302,
          116.59773924416639,
          120.33925084668502,
          124.05694153708042,
          127.7467731157174,
          131.39127951391123,
          135.00193061922005,
          138.57625663647693,
          142.11170564088036,
          145.6060608086576,
          149.0574363397888,
          152.4642443417878,
          155.82519844592719,
          159.13799881227663,
          162.39777481832002,
          165.60804563511576,
          168.769554784575,
          171.88246313448695,
          174.94707099645444,
          177.96379941057992,
          180.93316874501085,
          183.85578451488718,
          186.732324092245,
          189.56116469453943,
          192.34432886437094,
          195.08347118235292,
          197.77949527095933,
          200.43331069986175,
          203.04582825598595,
          205.61794989824762,
          208.15056955202706,
          210.64456061744127,
          213.09527151358444,
          215.50894271439606,
          217.8867843608932,
          220.22960810102168,
          222.53818697554993,
          224.80851633179785,
          227.04498798243085,
          229.24985801371264,
          231.42378118480914,
          233.56365964838852,
          235.67184820129282,
          237.75145921024261,
          239.80302861307737,
          241.82130735322798,
          243.8130662287167,
          245.77880556728454,
          247.7148582914341,
          249.624745604635,
          251.5104221499853,
          253.3684399215394,
          255.20200597121607,
          257.01295661741926,
          258.7972199948898,
          260.55954638669067,
          262.2995690173065,
          264.0154235729441,
          265.7111080507805
         ]
        }
       ],
       "layout": {
        "template": {
         "data": {
          "bar": [
           {
            "error_x": {
             "color": "#2a3f5f"
            },
            "error_y": {
             "color": "#2a3f5f"
            },
            "marker": {
             "line": {
              "color": "#E5ECF6",
              "width": 0.5
             },
             "pattern": {
              "fillmode": "overlay",
              "size": 10,
              "solidity": 0.2
             }
            },
            "type": "bar"
           }
          ],
          "barpolar": [
           {
            "marker": {
             "line": {
              "color": "#E5ECF6",
              "width": 0.5
             },
             "pattern": {
              "fillmode": "overlay",
              "size": 10,
              "solidity": 0.2
             }
            },
            "type": "barpolar"
           }
          ],
          "carpet": [
           {
            "aaxis": {
             "endlinecolor": "#2a3f5f",
             "gridcolor": "white",
             "linecolor": "white",
             "minorgridcolor": "white",
             "startlinecolor": "#2a3f5f"
            },
            "baxis": {
             "endlinecolor": "#2a3f5f",
             "gridcolor": "white",
             "linecolor": "white",
             "minorgridcolor": "white",
             "startlinecolor": "#2a3f5f"
            },
            "type": "carpet"
           }
          ],
          "choropleth": [
           {
            "colorbar": {
             "outlinewidth": 0,
             "ticks": ""
            },
            "type": "choropleth"
           }
          ],
          "contour": [
           {
            "colorbar": {
             "outlinewidth": 0,
             "ticks": ""
            },
            "colorscale": [
             [
              0,
              "#0d0887"
             ],
             [
              0.1111111111111111,
              "#46039f"
             ],
             [
              0.2222222222222222,
              "#7201a8"
             ],
             [
              0.3333333333333333,
              "#9c179e"
             ],
             [
              0.4444444444444444,
              "#bd3786"
             ],
             [
              0.5555555555555556,
              "#d8576b"
             ],
             [
              0.6666666666666666,
              "#ed7953"
             ],
             [
              0.7777777777777778,
              "#fb9f3a"
             ],
             [
              0.8888888888888888,
              "#fdca26"
             ],
             [
              1,
              "#f0f921"
             ]
            ],
            "type": "contour"
           }
          ],
          "contourcarpet": [
           {
            "colorbar": {
             "outlinewidth": 0,
             "ticks": ""
            },
            "type": "contourcarpet"
           }
          ],
          "heatmap": [
           {
            "colorbar": {
             "outlinewidth": 0,
             "ticks": ""
            },
            "colorscale": [
             [
              0,
              "#0d0887"
             ],
             [
              0.1111111111111111,
              "#46039f"
             ],
             [
              0.2222222222222222,
              "#7201a8"
             ],
             [
              0.3333333333333333,
              "#9c179e"
             ],
             [
              0.4444444444444444,
              "#bd3786"
             ],
             [
              0.5555555555555556,
              "#d8576b"
             ],
             [
              0.6666666666666666,
              "#ed7953"
             ],
             [
              0.7777777777777778,
              "#fb9f3a"
             ],
             [
              0.8888888888888888,
              "#fdca26"
             ],
             [
              1,
              "#f0f921"
             ]
            ],
            "type": "heatmap"
           }
          ],
          "heatmapgl": [
           {
            "colorbar": {
             "outlinewidth": 0,
             "ticks": ""
            },
            "colorscale": [
             [
              0,
              "#0d0887"
             ],
             [
              0.1111111111111111,
              "#46039f"
             ],
             [
              0.2222222222222222,
              "#7201a8"
             ],
             [
              0.3333333333333333,
              "#9c179e"
             ],
             [
              0.4444444444444444,
              "#bd3786"
             ],
             [
              0.5555555555555556,
              "#d8576b"
             ],
             [
              0.6666666666666666,
              "#ed7953"
             ],
             [
              0.7777777777777778,
              "#fb9f3a"
             ],
             [
              0.8888888888888888,
              "#fdca26"
             ],
             [
              1,
              "#f0f921"
             ]
            ],
            "type": "heatmapgl"
           }
          ],
          "histogram": [
           {
            "marker": {
             "pattern": {
              "fillmode": "overlay",
              "size": 10,
              "solidity": 0.2
             }
            },
            "type": "histogram"
           }
          ],
          "histogram2d": [
           {
            "colorbar": {
             "outlinewidth": 0,
             "ticks": ""
            },
            "colorscale": [
             [
              0,
              "#0d0887"
             ],
             [
              0.1111111111111111,
              "#46039f"
             ],
             [
              0.2222222222222222,
              "#7201a8"
             ],
             [
              0.3333333333333333,
              "#9c179e"
             ],
             [
              0.4444444444444444,
              "#bd3786"
             ],
             [
              0.5555555555555556,
              "#d8576b"
             ],
             [
              0.6666666666666666,
              "#ed7953"
             ],
             [
              0.7777777777777778,
              "#fb9f3a"
             ],
             [
              0.8888888888888888,
              "#fdca26"
             ],
             [
              1,
              "#f0f921"
             ]
            ],
            "type": "histogram2d"
           }
          ],
          "histogram2dcontour": [
           {
            "colorbar": {
             "outlinewidth": 0,
             "ticks": ""
            },
            "colorscale": [
             [
              0,
              "#0d0887"
             ],
             [
              0.1111111111111111,
              "#46039f"
             ],
             [
              0.2222222222222222,
              "#7201a8"
             ],
             [
              0.3333333333333333,
              "#9c179e"
             ],
             [
              0.4444444444444444,
              "#bd3786"
             ],
             [
              0.5555555555555556,
              "#d8576b"
             ],
             [
              0.6666666666666666,
              "#ed7953"
             ],
             [
              0.7777777777777778,
              "#fb9f3a"
             ],
             [
              0.8888888888888888,
              "#fdca26"
             ],
             [
              1,
              "#f0f921"
             ]
            ],
            "type": "histogram2dcontour"
           }
          ],
          "mesh3d": [
           {
            "colorbar": {
             "outlinewidth": 0,
             "ticks": ""
            },
            "type": "mesh3d"
           }
          ],
          "parcoords": [
           {
            "line": {
             "colorbar": {
              "outlinewidth": 0,
              "ticks": ""
             }
            },
            "type": "parcoords"
           }
          ],
          "pie": [
           {
            "automargin": true,
            "type": "pie"
           }
          ],
          "scatter": [
           {
            "fillpattern": {
             "fillmode": "overlay",
             "size": 10,
             "solidity": 0.2
            },
            "type": "scatter"
           }
          ],
          "scatter3d": [
           {
            "line": {
             "colorbar": {
              "outlinewidth": 0,
              "ticks": ""
             }
            },
            "marker": {
             "colorbar": {
              "outlinewidth": 0,
              "ticks": ""
             }
            },
            "type": "scatter3d"
           }
          ],
          "scattercarpet": [
           {
            "marker": {
             "colorbar": {
              "outlinewidth": 0,
              "ticks": ""
             }
            },
            "type": "scattercarpet"
           }
          ],
          "scattergeo": [
           {
            "marker": {
             "colorbar": {
              "outlinewidth": 0,
              "ticks": ""
             }
            },
            "type": "scattergeo"
           }
          ],
          "scattergl": [
           {
            "marker": {
             "colorbar": {
              "outlinewidth": 0,
              "ticks": ""
             }
            },
            "type": "scattergl"
           }
          ],
          "scattermapbox": [
           {
            "marker": {
             "colorbar": {
              "outlinewidth": 0,
              "ticks": ""
             }
            },
            "type": "scattermapbox"
           }
          ],
          "scatterpolar": [
           {
            "marker": {
             "colorbar": {
              "outlinewidth": 0,
              "ticks": ""
             }
            },
            "type": "scatterpolar"
           }
          ],
          "scatterpolargl": [
           {
            "marker": {
             "colorbar": {
              "outlinewidth": 0,
              "ticks": ""
             }
            },
            "type": "scatterpolargl"
           }
          ],
          "scatterternary": [
           {
            "marker": {
             "colorbar": {
              "outlinewidth": 0,
              "ticks": ""
             }
            },
            "type": "scatterternary"
           }
          ],
          "surface": [
           {
            "colorbar": {
             "outlinewidth": 0,
             "ticks": ""
            },
            "colorscale": [
             [
              0,
              "#0d0887"
             ],
             [
              0.1111111111111111,
              "#46039f"
             ],
             [
              0.2222222222222222,
              "#7201a8"
             ],
             [
              0.3333333333333333,
              "#9c179e"
             ],
             [
              0.4444444444444444,
              "#bd3786"
             ],
             [
              0.5555555555555556,
              "#d8576b"
             ],
             [
              0.6666666666666666,
              "#ed7953"
             ],
             [
              0.7777777777777778,
              "#fb9f3a"
             ],
             [
              0.8888888888888888,
              "#fdca26"
             ],
             [
              1,
              "#f0f921"
             ]
            ],
            "type": "surface"
           }
          ],
          "table": [
           {
            "cells": {
             "fill": {
              "color": "#EBF0F8"
             },
             "line": {
              "color": "white"
             }
            },
            "header": {
             "fill": {
              "color": "#C8D4E3"
             },
             "line": {
              "color": "white"
             }
            },
            "type": "table"
           }
          ]
         },
         "layout": {
          "annotationdefaults": {
           "arrowcolor": "#2a3f5f",
           "arrowhead": 0,
           "arrowwidth": 1
          },
          "autotypenumbers": "strict",
          "coloraxis": {
           "colorbar": {
            "outlinewidth": 0,
            "ticks": ""
           }
          },
          "colorscale": {
           "diverging": [
            [
             0,
             "#8e0152"
            ],
            [
             0.1,
             "#c51b7d"
            ],
            [
             0.2,
             "#de77ae"
            ],
            [
             0.3,
             "#f1b6da"
            ],
            [
             0.4,
             "#fde0ef"
            ],
            [
             0.5,
             "#f7f7f7"
            ],
            [
             0.6,
             "#e6f5d0"
            ],
            [
             0.7,
             "#b8e186"
            ],
            [
             0.8,
             "#7fbc41"
            ],
            [
             0.9,
             "#4d9221"
            ],
            [
             1,
             "#276419"
            ]
           ],
           "sequential": [
            [
             0,
             "#0d0887"
            ],
            [
             0.1111111111111111,
             "#46039f"
            ],
            [
             0.2222222222222222,
             "#7201a8"
            ],
            [
             0.3333333333333333,
             "#9c179e"
            ],
            [
             0.4444444444444444,
             "#bd3786"
            ],
            [
             0.5555555555555556,
             "#d8576b"
            ],
            [
             0.6666666666666666,
             "#ed7953"
            ],
            [
             0.7777777777777778,
             "#fb9f3a"
            ],
            [
             0.8888888888888888,
             "#fdca26"
            ],
            [
             1,
             "#f0f921"
            ]
           ],
           "sequentialminus": [
            [
             0,
             "#0d0887"
            ],
            [
             0.1111111111111111,
             "#46039f"
            ],
            [
             0.2222222222222222,
             "#7201a8"
            ],
            [
             0.3333333333333333,
             "#9c179e"
            ],
            [
             0.4444444444444444,
             "#bd3786"
            ],
            [
             0.5555555555555556,
             "#d8576b"
            ],
            [
             0.6666666666666666,
             "#ed7953"
            ],
            [
             0.7777777777777778,
             "#fb9f3a"
            ],
            [
             0.8888888888888888,
             "#fdca26"
            ],
            [
             1,
             "#f0f921"
            ]
           ]
          },
          "colorway": [
           "#636efa",
           "#EF553B",
           "#00cc96",
           "#ab63fa",
           "#FFA15A",
           "#19d3f3",
           "#FF6692",
           "#B6E880",
           "#FF97FF",
           "#FECB52"
          ],
          "font": {
           "color": "#2a3f5f"
          },
          "geo": {
           "bgcolor": "white",
           "lakecolor": "white",
           "landcolor": "#E5ECF6",
           "showlakes": true,
           "showland": true,
           "subunitcolor": "white"
          },
          "hoverlabel": {
           "align": "left"
          },
          "hovermode": "closest",
          "mapbox": {
           "style": "light"
          },
          "paper_bgcolor": "white",
          "plot_bgcolor": "#E5ECF6",
          "polar": {
           "angularaxis": {
            "gridcolor": "white",
            "linecolor": "white",
            "ticks": ""
           },
           "bgcolor": "#E5ECF6",
           "radialaxis": {
            "gridcolor": "white",
            "linecolor": "white",
            "ticks": ""
           }
          },
          "scene": {
           "xaxis": {
            "backgroundcolor": "#E5ECF6",
            "gridcolor": "white",
            "gridwidth": 2,
            "linecolor": "white",
            "showbackground": true,
            "ticks": "",
            "zerolinecolor": "white"
           },
           "yaxis": {
            "backgroundcolor": "#E5ECF6",
            "gridcolor": "white",
            "gridwidth": 2,
            "linecolor": "white",
            "showbackground": true,
            "ticks": "",
            "zerolinecolor": "white"
           },
           "zaxis": {
            "backgroundcolor": "#E5ECF6",
            "gridcolor": "white",
            "gridwidth": 2,
            "linecolor": "white",
            "showbackground": true,
            "ticks": "",
            "zerolinecolor": "white"
           }
          },
          "shapedefaults": {
           "line": {
            "color": "#2a3f5f"
           }
          },
          "ternary": {
           "aaxis": {
            "gridcolor": "white",
            "linecolor": "white",
            "ticks": ""
           },
           "baxis": {
            "gridcolor": "white",
            "linecolor": "white",
            "ticks": ""
           },
           "bgcolor": "#E5ECF6",
           "caxis": {
            "gridcolor": "white",
            "linecolor": "white",
            "ticks": ""
           }
          },
          "title": {
           "x": 0.05
          },
          "xaxis": {
           "automargin": true,
           "gridcolor": "white",
           "linecolor": "white",
           "ticks": "",
           "title": {
            "standoff": 15
           },
           "zerolinecolor": "white",
           "zerolinewidth": 2
          },
          "yaxis": {
           "automargin": true,
           "gridcolor": "white",
           "linecolor": "white",
           "ticks": "",
           "title": {
            "standoff": 15
           },
           "zerolinecolor": "white",
           "zerolinewidth": 2
          }
         }
        },
        "title": {
         "text": "Plot of landing position y1"
        },
        "xaxis": {
         "title": {
          "text": "velocity"
         }
        },
        "yaxis": {
         "title": {
          "text": "y1"
         }
        }
       }
      },
      "text/html": [
       "<div>                            <div id=\"37df1ab2-bccc-45b8-b07d-9915dacd512e\" class=\"plotly-graph-div\" style=\"height:525px; width:100%;\"></div>            <script type=\"text/javascript\">                require([\"plotly\"], function(Plotly) {                    window.PLOTLYENV=window.PLOTLYENV || {};                                    if (document.getElementById(\"37df1ab2-bccc-45b8-b07d-9915dacd512e\")) {                    Plotly.newPlot(                        \"37df1ab2-bccc-45b8-b07d-9915dacd512e\",                        [{\"mode\":\"lines\",\"name\":\"y1\",\"x\":[10.0,10.808080808080808,11.616161616161616,12.424242424242424,13.232323232323232,14.040404040404042,14.848484848484848,15.656565656565657,16.464646464646464,17.272727272727273,18.080808080808083,18.88888888888889,19.696969696969695,20.505050505050505,21.313131313131315,22.12121212121212,22.929292929292927,23.737373737373737,24.545454545454547,25.353535353535353,26.161616161616163,26.96969696969697,27.77777777777778,28.585858585858585,29.393939393939394,30.2020202020202,31.01010101010101,31.818181818181817,32.62626262626263,33.43434343434343,34.24242424242424,35.05050505050505,35.858585858585855,36.66666666666667,37.474747474747474,38.282828282828284,39.09090909090909,39.898989898989896,40.707070707070706,41.515151515151516,42.323232323232325,43.13131313131313,43.93939393939394,44.74747474747475,45.55555555555556,46.36363636363636,47.17171717171717,47.97979797979798,48.78787878787879,49.5959595959596,50.4040404040404,51.21212121212121,52.02020202020202,52.82828282828283,53.63636363636363,54.44444444444444,55.25252525252525,56.06060606060606,56.868686868686865,57.676767676767675,58.484848484848484,59.292929292929294,60.1010101010101,60.90909090909091,61.717171717171716,62.525252525252526,63.333333333333336,64.14141414141415,64.94949494949495,65.75757575757575,66.56565656565657,67.37373737373737,68.18181818181819,68.98989898989899,69.79797979797979,70.6060606060606,71.41414141414141,72.22222222222223,73.03030303030303,73.83838383838383,74.64646464646465,75.45454545454545,76.26262626262626,77.07070707070707,77.87878787878788,78.68686868686869,79.4949494949495,80.3030303030303,81.11111111111111,81.91919191919192,82.72727272727272,83.53535353535354,84.34343434343434,85.15151515151516,85.95959595959596,86.76767676767676,87.57575757575758,88.38383838383838,89.1919191919192,90.0],\"y\":[4.352833759499152,5.180529209576692,6.000085277317187,6.978769445939016,7.963152095763825,9.101450235161943,10.26656081429589,11.596441547261826,12.943753784657542,14.459639837226545,16.03889332127675,17.74432661468407,19.599750672009453,21.517351647737502,23.58143273805667,25.79187922057173,28.14267450882504,30.59224796966628,33.18487607375027,35.89380311204534,38.70176611682231,41.60587644339369,44.60312980799624,47.69030998743675,50.86391367332201,54.12010126665898,57.45466066782654,60.862996443611905,64.3401298480843,67.88071310126898,71.47905829736088,75.12917867589167,78.82483523752217,82.54720969232653,86.29294317305654,90.06422917938247,93.85472066551247,97.65811932508463,101.46824335119643,105.27593786755645,109.06118856246985,112.83680710767302,116.59773924416639,120.33925084668502,124.05694153708042,127.7467731157174,131.39127951391123,135.00193061922005,138.57625663647693,142.11170564088036,145.6060608086576,149.0574363397888,152.4642443417878,155.82519844592719,159.13799881227663,162.39777481832002,165.60804563511576,168.769554784575,171.88246313448695,174.94707099645444,177.96379941057992,180.93316874501085,183.85578451488718,186.732324092245,189.56116469453943,192.34432886437094,195.08347118235292,197.77949527095933,200.43331069986175,203.04582825598595,205.61794989824762,208.15056955202706,210.64456061744127,213.09527151358444,215.50894271439606,217.8867843608932,220.22960810102168,222.53818697554993,224.80851633179785,227.04498798243085,229.24985801371264,231.42378118480914,233.56365964838852,235.67184820129282,237.75145921024261,239.80302861307737,241.82130735322798,243.8130662287167,245.77880556728454,247.7148582914341,249.624745604635,251.5104221499853,253.3684399215394,255.20200597121607,257.01295661741926,258.7972199948898,260.55954638669067,262.2995690173065,264.0154235729441,265.7111080507805],\"type\":\"scatter\"}],                        {\"template\":{\"data\":{\"barpolar\":[{\"marker\":{\"line\":{\"color\":\"#E5ECF6\",\"width\":0.5},\"pattern\":{\"fillmode\":\"overlay\",\"size\":10,\"solidity\":0.2}},\"type\":\"barpolar\"}],\"bar\":[{\"error_x\":{\"color\":\"#2a3f5f\"},\"error_y\":{\"color\":\"#2a3f5f\"},\"marker\":{\"line\":{\"color\":\"#E5ECF6\",\"width\":0.5},\"pattern\":{\"fillmode\":\"overlay\",\"size\":10,\"solidity\":0.2}},\"type\":\"bar\"}],\"carpet\":[{\"aaxis\":{\"endlinecolor\":\"#2a3f5f\",\"gridcolor\":\"white\",\"linecolor\":\"white\",\"minorgridcolor\":\"white\",\"startlinecolor\":\"#2a3f5f\"},\"baxis\":{\"endlinecolor\":\"#2a3f5f\",\"gridcolor\":\"white\",\"linecolor\":\"white\",\"minorgridcolor\":\"white\",\"startlinecolor\":\"#2a3f5f\"},\"type\":\"carpet\"}],\"choropleth\":[{\"colorbar\":{\"outlinewidth\":0,\"ticks\":\"\"},\"type\":\"choropleth\"}],\"contourcarpet\":[{\"colorbar\":{\"outlinewidth\":0,\"ticks\":\"\"},\"type\":\"contourcarpet\"}],\"contour\":[{\"colorbar\":{\"outlinewidth\":0,\"ticks\":\"\"},\"colorscale\":[[0.0,\"#0d0887\"],[0.1111111111111111,\"#46039f\"],[0.2222222222222222,\"#7201a8\"],[0.3333333333333333,\"#9c179e\"],[0.4444444444444444,\"#bd3786\"],[0.5555555555555556,\"#d8576b\"],[0.6666666666666666,\"#ed7953\"],[0.7777777777777778,\"#fb9f3a\"],[0.8888888888888888,\"#fdca26\"],[1.0,\"#f0f921\"]],\"type\":\"contour\"}],\"heatmapgl\":[{\"colorbar\":{\"outlinewidth\":0,\"ticks\":\"\"},\"colorscale\":[[0.0,\"#0d0887\"],[0.1111111111111111,\"#46039f\"],[0.2222222222222222,\"#7201a8\"],[0.3333333333333333,\"#9c179e\"],[0.4444444444444444,\"#bd3786\"],[0.5555555555555556,\"#d8576b\"],[0.6666666666666666,\"#ed7953\"],[0.7777777777777778,\"#fb9f3a\"],[0.8888888888888888,\"#fdca26\"],[1.0,\"#f0f921\"]],\"type\":\"heatmapgl\"}],\"heatmap\":[{\"colorbar\":{\"outlinewidth\":0,\"ticks\":\"\"},\"colorscale\":[[0.0,\"#0d0887\"],[0.1111111111111111,\"#46039f\"],[0.2222222222222222,\"#7201a8\"],[0.3333333333333333,\"#9c179e\"],[0.4444444444444444,\"#bd3786\"],[0.5555555555555556,\"#d8576b\"],[0.6666666666666666,\"#ed7953\"],[0.7777777777777778,\"#fb9f3a\"],[0.8888888888888888,\"#fdca26\"],[1.0,\"#f0f921\"]],\"type\":\"heatmap\"}],\"histogram2dcontour\":[{\"colorbar\":{\"outlinewidth\":0,\"ticks\":\"\"},\"colorscale\":[[0.0,\"#0d0887\"],[0.1111111111111111,\"#46039f\"],[0.2222222222222222,\"#7201a8\"],[0.3333333333333333,\"#9c179e\"],[0.4444444444444444,\"#bd3786\"],[0.5555555555555556,\"#d8576b\"],[0.6666666666666666,\"#ed7953\"],[0.7777777777777778,\"#fb9f3a\"],[0.8888888888888888,\"#fdca26\"],[1.0,\"#f0f921\"]],\"type\":\"histogram2dcontour\"}],\"histogram2d\":[{\"colorbar\":{\"outlinewidth\":0,\"ticks\":\"\"},\"colorscale\":[[0.0,\"#0d0887\"],[0.1111111111111111,\"#46039f\"],[0.2222222222222222,\"#7201a8\"],[0.3333333333333333,\"#9c179e\"],[0.4444444444444444,\"#bd3786\"],[0.5555555555555556,\"#d8576b\"],[0.6666666666666666,\"#ed7953\"],[0.7777777777777778,\"#fb9f3a\"],[0.8888888888888888,\"#fdca26\"],[1.0,\"#f0f921\"]],\"type\":\"histogram2d\"}],\"histogram\":[{\"marker\":{\"pattern\":{\"fillmode\":\"overlay\",\"size\":10,\"solidity\":0.2}},\"type\":\"histogram\"}],\"mesh3d\":[{\"colorbar\":{\"outlinewidth\":0,\"ticks\":\"\"},\"type\":\"mesh3d\"}],\"parcoords\":[{\"line\":{\"colorbar\":{\"outlinewidth\":0,\"ticks\":\"\"}},\"type\":\"parcoords\"}],\"pie\":[{\"automargin\":true,\"type\":\"pie\"}],\"scatter3d\":[{\"line\":{\"colorbar\":{\"outlinewidth\":0,\"ticks\":\"\"}},\"marker\":{\"colorbar\":{\"outlinewidth\":0,\"ticks\":\"\"}},\"type\":\"scatter3d\"}],\"scattercarpet\":[{\"marker\":{\"colorbar\":{\"outlinewidth\":0,\"ticks\":\"\"}},\"type\":\"scattercarpet\"}],\"scattergeo\":[{\"marker\":{\"colorbar\":{\"outlinewidth\":0,\"ticks\":\"\"}},\"type\":\"scattergeo\"}],\"scattergl\":[{\"marker\":{\"colorbar\":{\"outlinewidth\":0,\"ticks\":\"\"}},\"type\":\"scattergl\"}],\"scattermapbox\":[{\"marker\":{\"colorbar\":{\"outlinewidth\":0,\"ticks\":\"\"}},\"type\":\"scattermapbox\"}],\"scatterpolargl\":[{\"marker\":{\"colorbar\":{\"outlinewidth\":0,\"ticks\":\"\"}},\"type\":\"scatterpolargl\"}],\"scatterpolar\":[{\"marker\":{\"colorbar\":{\"outlinewidth\":0,\"ticks\":\"\"}},\"type\":\"scatterpolar\"}],\"scatter\":[{\"fillpattern\":{\"fillmode\":\"overlay\",\"size\":10,\"solidity\":0.2},\"type\":\"scatter\"}],\"scatterternary\":[{\"marker\":{\"colorbar\":{\"outlinewidth\":0,\"ticks\":\"\"}},\"type\":\"scatterternary\"}],\"surface\":[{\"colorbar\":{\"outlinewidth\":0,\"ticks\":\"\"},\"colorscale\":[[0.0,\"#0d0887\"],[0.1111111111111111,\"#46039f\"],[0.2222222222222222,\"#7201a8\"],[0.3333333333333333,\"#9c179e\"],[0.4444444444444444,\"#bd3786\"],[0.5555555555555556,\"#d8576b\"],[0.6666666666666666,\"#ed7953\"],[0.7777777777777778,\"#fb9f3a\"],[0.8888888888888888,\"#fdca26\"],[1.0,\"#f0f921\"]],\"type\":\"surface\"}],\"table\":[{\"cells\":{\"fill\":{\"color\":\"#EBF0F8\"},\"line\":{\"color\":\"white\"}},\"header\":{\"fill\":{\"color\":\"#C8D4E3\"},\"line\":{\"color\":\"white\"}},\"type\":\"table\"}]},\"layout\":{\"annotationdefaults\":{\"arrowcolor\":\"#2a3f5f\",\"arrowhead\":0,\"arrowwidth\":1},\"autotypenumbers\":\"strict\",\"coloraxis\":{\"colorbar\":{\"outlinewidth\":0,\"ticks\":\"\"}},\"colorscale\":{\"diverging\":[[0,\"#8e0152\"],[0.1,\"#c51b7d\"],[0.2,\"#de77ae\"],[0.3,\"#f1b6da\"],[0.4,\"#fde0ef\"],[0.5,\"#f7f7f7\"],[0.6,\"#e6f5d0\"],[0.7,\"#b8e186\"],[0.8,\"#7fbc41\"],[0.9,\"#4d9221\"],[1,\"#276419\"]],\"sequential\":[[0.0,\"#0d0887\"],[0.1111111111111111,\"#46039f\"],[0.2222222222222222,\"#7201a8\"],[0.3333333333333333,\"#9c179e\"],[0.4444444444444444,\"#bd3786\"],[0.5555555555555556,\"#d8576b\"],[0.6666666666666666,\"#ed7953\"],[0.7777777777777778,\"#fb9f3a\"],[0.8888888888888888,\"#fdca26\"],[1.0,\"#f0f921\"]],\"sequentialminus\":[[0.0,\"#0d0887\"],[0.1111111111111111,\"#46039f\"],[0.2222222222222222,\"#7201a8\"],[0.3333333333333333,\"#9c179e\"],[0.4444444444444444,\"#bd3786\"],[0.5555555555555556,\"#d8576b\"],[0.6666666666666666,\"#ed7953\"],[0.7777777777777778,\"#fb9f3a\"],[0.8888888888888888,\"#fdca26\"],[1.0,\"#f0f921\"]]},\"colorway\":[\"#636efa\",\"#EF553B\",\"#00cc96\",\"#ab63fa\",\"#FFA15A\",\"#19d3f3\",\"#FF6692\",\"#B6E880\",\"#FF97FF\",\"#FECB52\"],\"font\":{\"color\":\"#2a3f5f\"},\"geo\":{\"bgcolor\":\"white\",\"lakecolor\":\"white\",\"landcolor\":\"#E5ECF6\",\"showlakes\":true,\"showland\":true,\"subunitcolor\":\"white\"},\"hoverlabel\":{\"align\":\"left\"},\"hovermode\":\"closest\",\"mapbox\":{\"style\":\"light\"},\"paper_bgcolor\":\"white\",\"plot_bgcolor\":\"#E5ECF6\",\"polar\":{\"angularaxis\":{\"gridcolor\":\"white\",\"linecolor\":\"white\",\"ticks\":\"\"},\"bgcolor\":\"#E5ECF6\",\"radialaxis\":{\"gridcolor\":\"white\",\"linecolor\":\"white\",\"ticks\":\"\"}},\"scene\":{\"xaxis\":{\"backgroundcolor\":\"#E5ECF6\",\"gridcolor\":\"white\",\"gridwidth\":2,\"linecolor\":\"white\",\"showbackground\":true,\"ticks\":\"\",\"zerolinecolor\":\"white\"},\"yaxis\":{\"backgroundcolor\":\"#E5ECF6\",\"gridcolor\":\"white\",\"gridwidth\":2,\"linecolor\":\"white\",\"showbackground\":true,\"ticks\":\"\",\"zerolinecolor\":\"white\"},\"zaxis\":{\"backgroundcolor\":\"#E5ECF6\",\"gridcolor\":\"white\",\"gridwidth\":2,\"linecolor\":\"white\",\"showbackground\":true,\"ticks\":\"\",\"zerolinecolor\":\"white\"}},\"shapedefaults\":{\"line\":{\"color\":\"#2a3f5f\"}},\"ternary\":{\"aaxis\":{\"gridcolor\":\"white\",\"linecolor\":\"white\",\"ticks\":\"\"},\"baxis\":{\"gridcolor\":\"white\",\"linecolor\":\"white\",\"ticks\":\"\"},\"bgcolor\":\"#E5ECF6\",\"caxis\":{\"gridcolor\":\"white\",\"linecolor\":\"white\",\"ticks\":\"\"}},\"title\":{\"x\":0.05},\"xaxis\":{\"automargin\":true,\"gridcolor\":\"white\",\"linecolor\":\"white\",\"ticks\":\"\",\"title\":{\"standoff\":15},\"zerolinecolor\":\"white\",\"zerolinewidth\":2},\"yaxis\":{\"automargin\":true,\"gridcolor\":\"white\",\"linecolor\":\"white\",\"ticks\":\"\",\"title\":{\"standoff\":15},\"zerolinecolor\":\"white\",\"zerolinewidth\":2}}},\"title\":{\"text\":\"Plot of landing position y1\"},\"xaxis\":{\"title\":{\"text\":\"velocity\"}},\"yaxis\":{\"title\":{\"text\":\"y1\"}}},                        {\"responsive\": true}                    ).then(function(){\n",
       "                            \n",
       "var gd = document.getElementById('37df1ab2-bccc-45b8-b07d-9915dacd512e');\n",
       "var x = new MutationObserver(function (mutations, observer) {{\n",
       "        var display = window.getComputedStyle(gd).display;\n",
       "        if (!display || display === 'none') {{\n",
       "            console.log([gd, 'removed!']);\n",
       "            Plotly.purge(gd);\n",
       "            observer.disconnect();\n",
       "        }}\n",
       "}});\n",
       "\n",
       "// Listen for the removal of the full notebook cells\n",
       "var notebookContainer = gd.closest('#notebook-container');\n",
       "if (notebookContainer) {{\n",
       "    x.observe(notebookContainer, {childList: true});\n",
       "}}\n",
       "\n",
       "// Listen for the clearing of the current output cell\n",
       "var outputEl = gd.closest('.output');\n",
       "if (outputEl) {{\n",
       "    x.observe(outputEl, {childList: true});\n",
       "}}\n",
       "\n",
       "                        })                };                });            </script>        </div>"
      ]
     },
     "metadata": {},
     "output_type": "display_data"
    },
    {
     "data": {
      "application/vnd.plotly.v1+json": {
       "config": {
        "linkText": "Export to plot.ly",
        "plotlyServerURL": "https://plot.ly",
        "showLink": false
       },
       "data": [
        {
         "mode": "lines",
         "name": "y2",
         "type": "scatter",
         "x": [
          10,
          10.808080808080808,
          11.616161616161616,
          12.424242424242424,
          13.232323232323232,
          14.040404040404042,
          14.848484848484848,
          15.656565656565657,
          16.464646464646464,
          17.272727272727273,
          18.080808080808083,
          18.88888888888889,
          19.696969696969695,
          20.505050505050505,
          21.313131313131315,
          22.12121212121212,
          22.929292929292927,
          23.737373737373737,
          24.545454545454547,
          25.353535353535353,
          26.161616161616163,
          26.96969696969697,
          27.77777777777778,
          28.585858585858585,
          29.393939393939394,
          30.2020202020202,
          31.01010101010101,
          31.818181818181817,
          32.62626262626263,
          33.43434343434343,
          34.24242424242424,
          35.05050505050505,
          35.858585858585855,
          36.66666666666667,
          37.474747474747474,
          38.282828282828284,
          39.09090909090909,
          39.898989898989896,
          40.707070707070706,
          41.515151515151516,
          42.323232323232325,
          43.13131313131313,
          43.93939393939394,
          44.74747474747475,
          45.55555555555556,
          46.36363636363636,
          47.17171717171717,
          47.97979797979798,
          48.78787878787879,
          49.5959595959596,
          50.4040404040404,
          51.21212121212121,
          52.02020202020202,
          52.82828282828283,
          53.63636363636363,
          54.44444444444444,
          55.25252525252525,
          56.06060606060606,
          56.868686868686865,
          57.676767676767675,
          58.484848484848484,
          59.292929292929294,
          60.1010101010101,
          60.90909090909091,
          61.717171717171716,
          62.525252525252526,
          63.333333333333336,
          64.14141414141415,
          64.94949494949495,
          65.75757575757575,
          66.56565656565657,
          67.37373737373737,
          68.18181818181819,
          68.98989898989899,
          69.79797979797979,
          70.6060606060606,
          71.41414141414141,
          72.22222222222223,
          73.03030303030303,
          73.83838383838383,
          74.64646464646465,
          75.45454545454545,
          76.26262626262626,
          77.07070707070707,
          77.87878787878788,
          78.68686868686869,
          79.4949494949495,
          80.3030303030303,
          81.11111111111111,
          81.91919191919192,
          82.72727272727272,
          83.53535353535354,
          84.34343434343434,
          85.15151515151516,
          85.95959595959596,
          86.76767676767676,
          87.57575757575758,
          88.38383838383838,
          89.1919191919192,
          90
         ],
         "y": [
          -0.5078953323199705,
          -0.5974476700257251,
          -0.6833227044221436,
          -0.7841291355030161,
          -0.8818591973352597,
          -0.9923371932303915,
          -1.1007912294665085,
          -1.221172124795323,
          -1.3368980358444005,
          -1.4625656094735366,
          -1.5861676801579807,
          -1.7126422668402126,
          -1.842543969080209,
          -1.9660718197884883,
          -2.0891884843141497,
          -2.209680839002676,
          -2.324731868304675,
          -2.4288503716172545,
          -2.523221585912596,
          -2.6066352576666527,
          -2.677908938600399,
          -2.735459344060213,
          -2.7777213984817384,
          -2.803160145746193,
          -2.810286151489165,
          -2.7976729649881755,
          -2.7639762212634733,
          -2.7079520360650893,
          -2.628475152523804,
          -2.52455601335185,
          -2.3953543518829874,
          -2.240191807824044,
          -2.0585606681884814,
          -1.8502521039314066,
          -1.615280947309147,
          -1.3536449344139863,
          -1.0655423552871572,
          -0.7513320667324195,
          -0.4115223291183557,
          -0.04690571393903128,
          0.340948693460706,
          0.7519185356213554,
          1.1850571355987298,
          1.6393420843970898,
          2.113691112127564,
          2.606977387275333,
          3.1168392295788356,
          3.643246069355019,
          4.185084540232643,
          4.741212411281132,
          5.310502971341152,
          5.891854698651778,
          6.484195953927975,
          7.086493631407395,
          7.696823438201884,
          8.312940290618027,
          8.934446191398843,
          9.560647166105914,
          10.19080460372322,
          10.824232348027621,
          11.460294126282268,
          12.098402142717077,
          12.738014781178466,
          13.378633068192887,
          14.019385400302617,
          14.660047117477621,
          15.300377825104565,
          15.940037287477853,
          16.57871784542608,
          17.21613637354952,
          17.85203645909871,
          18.48618625002458,
          19.11837030232519,
          19.74721397059977,
          20.373653145331968,
          20.997613236917754,
          21.61895427790846,
          22.23754669611775,
          22.85214972553871,
          23.463474512578777,
          24.071791314694998,
          24.67700919667127,
          25.278096411673676,
          25.875380211601872,
          26.469426478651805,
          27.060174769867206,
          27.645974940010436,
          28.22844052239205,
          28.80753778644597,
          29.3820159460171,
          29.952682411392065,
          30.519953191445836,
          31.082598167986628,
          31.64141342036446,
          32.19683154803266,
          32.74735959084882,
          33.29438331792817,
          33.83764839547064,
          34.3763303500474,
          34.91170118597122
         ]
        }
       ],
       "layout": {
        "template": {
         "data": {
          "bar": [
           {
            "error_x": {
             "color": "#2a3f5f"
            },
            "error_y": {
             "color": "#2a3f5f"
            },
            "marker": {
             "line": {
              "color": "#E5ECF6",
              "width": 0.5
             },
             "pattern": {
              "fillmode": "overlay",
              "size": 10,
              "solidity": 0.2
             }
            },
            "type": "bar"
           }
          ],
          "barpolar": [
           {
            "marker": {
             "line": {
              "color": "#E5ECF6",
              "width": 0.5
             },
             "pattern": {
              "fillmode": "overlay",
              "size": 10,
              "solidity": 0.2
             }
            },
            "type": "barpolar"
           }
          ],
          "carpet": [
           {
            "aaxis": {
             "endlinecolor": "#2a3f5f",
             "gridcolor": "white",
             "linecolor": "white",
             "minorgridcolor": "white",
             "startlinecolor": "#2a3f5f"
            },
            "baxis": {
             "endlinecolor": "#2a3f5f",
             "gridcolor": "white",
             "linecolor": "white",
             "minorgridcolor": "white",
             "startlinecolor": "#2a3f5f"
            },
            "type": "carpet"
           }
          ],
          "choropleth": [
           {
            "colorbar": {
             "outlinewidth": 0,
             "ticks": ""
            },
            "type": "choropleth"
           }
          ],
          "contour": [
           {
            "colorbar": {
             "outlinewidth": 0,
             "ticks": ""
            },
            "colorscale": [
             [
              0,
              "#0d0887"
             ],
             [
              0.1111111111111111,
              "#46039f"
             ],
             [
              0.2222222222222222,
              "#7201a8"
             ],
             [
              0.3333333333333333,
              "#9c179e"
             ],
             [
              0.4444444444444444,
              "#bd3786"
             ],
             [
              0.5555555555555556,
              "#d8576b"
             ],
             [
              0.6666666666666666,
              "#ed7953"
             ],
             [
              0.7777777777777778,
              "#fb9f3a"
             ],
             [
              0.8888888888888888,
              "#fdca26"
             ],
             [
              1,
              "#f0f921"
             ]
            ],
            "type": "contour"
           }
          ],
          "contourcarpet": [
           {
            "colorbar": {
             "outlinewidth": 0,
             "ticks": ""
            },
            "type": "contourcarpet"
           }
          ],
          "heatmap": [
           {
            "colorbar": {
             "outlinewidth": 0,
             "ticks": ""
            },
            "colorscale": [
             [
              0,
              "#0d0887"
             ],
             [
              0.1111111111111111,
              "#46039f"
             ],
             [
              0.2222222222222222,
              "#7201a8"
             ],
             [
              0.3333333333333333,
              "#9c179e"
             ],
             [
              0.4444444444444444,
              "#bd3786"
             ],
             [
              0.5555555555555556,
              "#d8576b"
             ],
             [
              0.6666666666666666,
              "#ed7953"
             ],
             [
              0.7777777777777778,
              "#fb9f3a"
             ],
             [
              0.8888888888888888,
              "#fdca26"
             ],
             [
              1,
              "#f0f921"
             ]
            ],
            "type": "heatmap"
           }
          ],
          "heatmapgl": [
           {
            "colorbar": {
             "outlinewidth": 0,
             "ticks": ""
            },
            "colorscale": [
             [
              0,
              "#0d0887"
             ],
             [
              0.1111111111111111,
              "#46039f"
             ],
             [
              0.2222222222222222,
              "#7201a8"
             ],
             [
              0.3333333333333333,
              "#9c179e"
             ],
             [
              0.4444444444444444,
              "#bd3786"
             ],
             [
              0.5555555555555556,
              "#d8576b"
             ],
             [
              0.6666666666666666,
              "#ed7953"
             ],
             [
              0.7777777777777778,
              "#fb9f3a"
             ],
             [
              0.8888888888888888,
              "#fdca26"
             ],
             [
              1,
              "#f0f921"
             ]
            ],
            "type": "heatmapgl"
           }
          ],
          "histogram": [
           {
            "marker": {
             "pattern": {
              "fillmode": "overlay",
              "size": 10,
              "solidity": 0.2
             }
            },
            "type": "histogram"
           }
          ],
          "histogram2d": [
           {
            "colorbar": {
             "outlinewidth": 0,
             "ticks": ""
            },
            "colorscale": [
             [
              0,
              "#0d0887"
             ],
             [
              0.1111111111111111,
              "#46039f"
             ],
             [
              0.2222222222222222,
              "#7201a8"
             ],
             [
              0.3333333333333333,
              "#9c179e"
             ],
             [
              0.4444444444444444,
              "#bd3786"
             ],
             [
              0.5555555555555556,
              "#d8576b"
             ],
             [
              0.6666666666666666,
              "#ed7953"
             ],
             [
              0.7777777777777778,
              "#fb9f3a"
             ],
             [
              0.8888888888888888,
              "#fdca26"
             ],
             [
              1,
              "#f0f921"
             ]
            ],
            "type": "histogram2d"
           }
          ],
          "histogram2dcontour": [
           {
            "colorbar": {
             "outlinewidth": 0,
             "ticks": ""
            },
            "colorscale": [
             [
              0,
              "#0d0887"
             ],
             [
              0.1111111111111111,
              "#46039f"
             ],
             [
              0.2222222222222222,
              "#7201a8"
             ],
             [
              0.3333333333333333,
              "#9c179e"
             ],
             [
              0.4444444444444444,
              "#bd3786"
             ],
             [
              0.5555555555555556,
              "#d8576b"
             ],
             [
              0.6666666666666666,
              "#ed7953"
             ],
             [
              0.7777777777777778,
              "#fb9f3a"
             ],
             [
              0.8888888888888888,
              "#fdca26"
             ],
             [
              1,
              "#f0f921"
             ]
            ],
            "type": "histogram2dcontour"
           }
          ],
          "mesh3d": [
           {
            "colorbar": {
             "outlinewidth": 0,
             "ticks": ""
            },
            "type": "mesh3d"
           }
          ],
          "parcoords": [
           {
            "line": {
             "colorbar": {
              "outlinewidth": 0,
              "ticks": ""
             }
            },
            "type": "parcoords"
           }
          ],
          "pie": [
           {
            "automargin": true,
            "type": "pie"
           }
          ],
          "scatter": [
           {
            "fillpattern": {
             "fillmode": "overlay",
             "size": 10,
             "solidity": 0.2
            },
            "type": "scatter"
           }
          ],
          "scatter3d": [
           {
            "line": {
             "colorbar": {
              "outlinewidth": 0,
              "ticks": ""
             }
            },
            "marker": {
             "colorbar": {
              "outlinewidth": 0,
              "ticks": ""
             }
            },
            "type": "scatter3d"
           }
          ],
          "scattercarpet": [
           {
            "marker": {
             "colorbar": {
              "outlinewidth": 0,
              "ticks": ""
             }
            },
            "type": "scattercarpet"
           }
          ],
          "scattergeo": [
           {
            "marker": {
             "colorbar": {
              "outlinewidth": 0,
              "ticks": ""
             }
            },
            "type": "scattergeo"
           }
          ],
          "scattergl": [
           {
            "marker": {
             "colorbar": {
              "outlinewidth": 0,
              "ticks": ""
             }
            },
            "type": "scattergl"
           }
          ],
          "scattermapbox": [
           {
            "marker": {
             "colorbar": {
              "outlinewidth": 0,
              "ticks": ""
             }
            },
            "type": "scattermapbox"
           }
          ],
          "scatterpolar": [
           {
            "marker": {
             "colorbar": {
              "outlinewidth": 0,
              "ticks": ""
             }
            },
            "type": "scatterpolar"
           }
          ],
          "scatterpolargl": [
           {
            "marker": {
             "colorbar": {
              "outlinewidth": 0,
              "ticks": ""
             }
            },
            "type": "scatterpolargl"
           }
          ],
          "scatterternary": [
           {
            "marker": {
             "colorbar": {
              "outlinewidth": 0,
              "ticks": ""
             }
            },
            "type": "scatterternary"
           }
          ],
          "surface": [
           {
            "colorbar": {
             "outlinewidth": 0,
             "ticks": ""
            },
            "colorscale": [
             [
              0,
              "#0d0887"
             ],
             [
              0.1111111111111111,
              "#46039f"
             ],
             [
              0.2222222222222222,
              "#7201a8"
             ],
             [
              0.3333333333333333,
              "#9c179e"
             ],
             [
              0.4444444444444444,
              "#bd3786"
             ],
             [
              0.5555555555555556,
              "#d8576b"
             ],
             [
              0.6666666666666666,
              "#ed7953"
             ],
             [
              0.7777777777777778,
              "#fb9f3a"
             ],
             [
              0.8888888888888888,
              "#fdca26"
             ],
             [
              1,
              "#f0f921"
             ]
            ],
            "type": "surface"
           }
          ],
          "table": [
           {
            "cells": {
             "fill": {
              "color": "#EBF0F8"
             },
             "line": {
              "color": "white"
             }
            },
            "header": {
             "fill": {
              "color": "#C8D4E3"
             },
             "line": {
              "color": "white"
             }
            },
            "type": "table"
           }
          ]
         },
         "layout": {
          "annotationdefaults": {
           "arrowcolor": "#2a3f5f",
           "arrowhead": 0,
           "arrowwidth": 1
          },
          "autotypenumbers": "strict",
          "coloraxis": {
           "colorbar": {
            "outlinewidth": 0,
            "ticks": ""
           }
          },
          "colorscale": {
           "diverging": [
            [
             0,
             "#8e0152"
            ],
            [
             0.1,
             "#c51b7d"
            ],
            [
             0.2,
             "#de77ae"
            ],
            [
             0.3,
             "#f1b6da"
            ],
            [
             0.4,
             "#fde0ef"
            ],
            [
             0.5,
             "#f7f7f7"
            ],
            [
             0.6,
             "#e6f5d0"
            ],
            [
             0.7,
             "#b8e186"
            ],
            [
             0.8,
             "#7fbc41"
            ],
            [
             0.9,
             "#4d9221"
            ],
            [
             1,
             "#276419"
            ]
           ],
           "sequential": [
            [
             0,
             "#0d0887"
            ],
            [
             0.1111111111111111,
             "#46039f"
            ],
            [
             0.2222222222222222,
             "#7201a8"
            ],
            [
             0.3333333333333333,
             "#9c179e"
            ],
            [
             0.4444444444444444,
             "#bd3786"
            ],
            [
             0.5555555555555556,
             "#d8576b"
            ],
            [
             0.6666666666666666,
             "#ed7953"
            ],
            [
             0.7777777777777778,
             "#fb9f3a"
            ],
            [
             0.8888888888888888,
             "#fdca26"
            ],
            [
             1,
             "#f0f921"
            ]
           ],
           "sequentialminus": [
            [
             0,
             "#0d0887"
            ],
            [
             0.1111111111111111,
             "#46039f"
            ],
            [
             0.2222222222222222,
             "#7201a8"
            ],
            [
             0.3333333333333333,
             "#9c179e"
            ],
            [
             0.4444444444444444,
             "#bd3786"
            ],
            [
             0.5555555555555556,
             "#d8576b"
            ],
            [
             0.6666666666666666,
             "#ed7953"
            ],
            [
             0.7777777777777778,
             "#fb9f3a"
            ],
            [
             0.8888888888888888,
             "#fdca26"
            ],
            [
             1,
             "#f0f921"
            ]
           ]
          },
          "colorway": [
           "#636efa",
           "#EF553B",
           "#00cc96",
           "#ab63fa",
           "#FFA15A",
           "#19d3f3",
           "#FF6692",
           "#B6E880",
           "#FF97FF",
           "#FECB52"
          ],
          "font": {
           "color": "#2a3f5f"
          },
          "geo": {
           "bgcolor": "white",
           "lakecolor": "white",
           "landcolor": "#E5ECF6",
           "showlakes": true,
           "showland": true,
           "subunitcolor": "white"
          },
          "hoverlabel": {
           "align": "left"
          },
          "hovermode": "closest",
          "mapbox": {
           "style": "light"
          },
          "paper_bgcolor": "white",
          "plot_bgcolor": "#E5ECF6",
          "polar": {
           "angularaxis": {
            "gridcolor": "white",
            "linecolor": "white",
            "ticks": ""
           },
           "bgcolor": "#E5ECF6",
           "radialaxis": {
            "gridcolor": "white",
            "linecolor": "white",
            "ticks": ""
           }
          },
          "scene": {
           "xaxis": {
            "backgroundcolor": "#E5ECF6",
            "gridcolor": "white",
            "gridwidth": 2,
            "linecolor": "white",
            "showbackground": true,
            "ticks": "",
            "zerolinecolor": "white"
           },
           "yaxis": {
            "backgroundcolor": "#E5ECF6",
            "gridcolor": "white",
            "gridwidth": 2,
            "linecolor": "white",
            "showbackground": true,
            "ticks": "",
            "zerolinecolor": "white"
           },
           "zaxis": {
            "backgroundcolor": "#E5ECF6",
            "gridcolor": "white",
            "gridwidth": 2,
            "linecolor": "white",
            "showbackground": true,
            "ticks": "",
            "zerolinecolor": "white"
           }
          },
          "shapedefaults": {
           "line": {
            "color": "#2a3f5f"
           }
          },
          "ternary": {
           "aaxis": {
            "gridcolor": "white",
            "linecolor": "white",
            "ticks": ""
           },
           "baxis": {
            "gridcolor": "white",
            "linecolor": "white",
            "ticks": ""
           },
           "bgcolor": "#E5ECF6",
           "caxis": {
            "gridcolor": "white",
            "linecolor": "white",
            "ticks": ""
           }
          },
          "title": {
           "x": 0.05
          },
          "xaxis": {
           "automargin": true,
           "gridcolor": "white",
           "linecolor": "white",
           "ticks": "",
           "title": {
            "standoff": 15
           },
           "zerolinecolor": "white",
           "zerolinewidth": 2
          },
          "yaxis": {
           "automargin": true,
           "gridcolor": "white",
           "linecolor": "white",
           "ticks": "",
           "title": {
            "standoff": 15
           },
           "zerolinecolor": "white",
           "zerolinewidth": 2
          }
         }
        },
        "title": {
         "text": "Plot of landing position y2"
        },
        "xaxis": {
         "title": {
          "text": "velocity"
         }
        },
        "yaxis": {
         "title": {
          "text": "y2"
         }
        }
       }
      },
      "text/html": [
       "<div>                            <div id=\"0aec8588-f3aa-4093-b959-1ce8af0ee772\" class=\"plotly-graph-div\" style=\"height:525px; width:100%;\"></div>            <script type=\"text/javascript\">                require([\"plotly\"], function(Plotly) {                    window.PLOTLYENV=window.PLOTLYENV || {};                                    if (document.getElementById(\"0aec8588-f3aa-4093-b959-1ce8af0ee772\")) {                    Plotly.newPlot(                        \"0aec8588-f3aa-4093-b959-1ce8af0ee772\",                        [{\"mode\":\"lines\",\"name\":\"y2\",\"x\":[10.0,10.808080808080808,11.616161616161616,12.424242424242424,13.232323232323232,14.040404040404042,14.848484848484848,15.656565656565657,16.464646464646464,17.272727272727273,18.080808080808083,18.88888888888889,19.696969696969695,20.505050505050505,21.313131313131315,22.12121212121212,22.929292929292927,23.737373737373737,24.545454545454547,25.353535353535353,26.161616161616163,26.96969696969697,27.77777777777778,28.585858585858585,29.393939393939394,30.2020202020202,31.01010101010101,31.818181818181817,32.62626262626263,33.43434343434343,34.24242424242424,35.05050505050505,35.858585858585855,36.66666666666667,37.474747474747474,38.282828282828284,39.09090909090909,39.898989898989896,40.707070707070706,41.515151515151516,42.323232323232325,43.13131313131313,43.93939393939394,44.74747474747475,45.55555555555556,46.36363636363636,47.17171717171717,47.97979797979798,48.78787878787879,49.5959595959596,50.4040404040404,51.21212121212121,52.02020202020202,52.82828282828283,53.63636363636363,54.44444444444444,55.25252525252525,56.06060606060606,56.868686868686865,57.676767676767675,58.484848484848484,59.292929292929294,60.1010101010101,60.90909090909091,61.717171717171716,62.525252525252526,63.333333333333336,64.14141414141415,64.94949494949495,65.75757575757575,66.56565656565657,67.37373737373737,68.18181818181819,68.98989898989899,69.79797979797979,70.6060606060606,71.41414141414141,72.22222222222223,73.03030303030303,73.83838383838383,74.64646464646465,75.45454545454545,76.26262626262626,77.07070707070707,77.87878787878788,78.68686868686869,79.4949494949495,80.3030303030303,81.11111111111111,81.91919191919192,82.72727272727272,83.53535353535354,84.34343434343434,85.15151515151516,85.95959595959596,86.76767676767676,87.57575757575758,88.38383838383838,89.1919191919192,90.0],\"y\":[-0.5078953323199705,-0.5974476700257251,-0.6833227044221436,-0.7841291355030161,-0.8818591973352597,-0.9923371932303915,-1.1007912294665085,-1.221172124795323,-1.3368980358444005,-1.4625656094735366,-1.5861676801579807,-1.7126422668402126,-1.842543969080209,-1.9660718197884883,-2.0891884843141497,-2.209680839002676,-2.324731868304675,-2.4288503716172545,-2.523221585912596,-2.6066352576666527,-2.677908938600399,-2.735459344060213,-2.7777213984817384,-2.803160145746193,-2.810286151489165,-2.7976729649881755,-2.7639762212634733,-2.7079520360650893,-2.628475152523804,-2.52455601335185,-2.3953543518829874,-2.240191807824044,-2.0585606681884814,-1.8502521039314066,-1.615280947309147,-1.3536449344139863,-1.0655423552871572,-0.7513320667324195,-0.4115223291183557,-0.04690571393903128,0.340948693460706,0.7519185356213554,1.1850571355987298,1.6393420843970898,2.113691112127564,2.606977387275333,3.1168392295788356,3.643246069355019,4.185084540232643,4.741212411281132,5.310502971341152,5.891854698651778,6.484195953927975,7.086493631407395,7.696823438201884,8.312940290618027,8.934446191398843,9.560647166105914,10.19080460372322,10.824232348027621,11.460294126282268,12.098402142717077,12.738014781178466,13.378633068192887,14.019385400302617,14.660047117477621,15.300377825104565,15.940037287477853,16.57871784542608,17.21613637354952,17.85203645909871,18.48618625002458,19.11837030232519,19.74721397059977,20.373653145331968,20.997613236917754,21.61895427790846,22.23754669611775,22.85214972553871,23.463474512578777,24.071791314694998,24.67700919667127,25.278096411673676,25.875380211601872,26.469426478651805,27.060174769867206,27.645974940010436,28.22844052239205,28.80753778644597,29.3820159460171,29.952682411392065,30.519953191445836,31.082598167986628,31.64141342036446,32.19683154803266,32.74735959084882,33.29438331792817,33.83764839547064,34.3763303500474,34.91170118597122],\"type\":\"scatter\"}],                        {\"template\":{\"data\":{\"barpolar\":[{\"marker\":{\"line\":{\"color\":\"#E5ECF6\",\"width\":0.5},\"pattern\":{\"fillmode\":\"overlay\",\"size\":10,\"solidity\":0.2}},\"type\":\"barpolar\"}],\"bar\":[{\"error_x\":{\"color\":\"#2a3f5f\"},\"error_y\":{\"color\":\"#2a3f5f\"},\"marker\":{\"line\":{\"color\":\"#E5ECF6\",\"width\":0.5},\"pattern\":{\"fillmode\":\"overlay\",\"size\":10,\"solidity\":0.2}},\"type\":\"bar\"}],\"carpet\":[{\"aaxis\":{\"endlinecolor\":\"#2a3f5f\",\"gridcolor\":\"white\",\"linecolor\":\"white\",\"minorgridcolor\":\"white\",\"startlinecolor\":\"#2a3f5f\"},\"baxis\":{\"endlinecolor\":\"#2a3f5f\",\"gridcolor\":\"white\",\"linecolor\":\"white\",\"minorgridcolor\":\"white\",\"startlinecolor\":\"#2a3f5f\"},\"type\":\"carpet\"}],\"choropleth\":[{\"colorbar\":{\"outlinewidth\":0,\"ticks\":\"\"},\"type\":\"choropleth\"}],\"contourcarpet\":[{\"colorbar\":{\"outlinewidth\":0,\"ticks\":\"\"},\"type\":\"contourcarpet\"}],\"contour\":[{\"colorbar\":{\"outlinewidth\":0,\"ticks\":\"\"},\"colorscale\":[[0.0,\"#0d0887\"],[0.1111111111111111,\"#46039f\"],[0.2222222222222222,\"#7201a8\"],[0.3333333333333333,\"#9c179e\"],[0.4444444444444444,\"#bd3786\"],[0.5555555555555556,\"#d8576b\"],[0.6666666666666666,\"#ed7953\"],[0.7777777777777778,\"#fb9f3a\"],[0.8888888888888888,\"#fdca26\"],[1.0,\"#f0f921\"]],\"type\":\"contour\"}],\"heatmapgl\":[{\"colorbar\":{\"outlinewidth\":0,\"ticks\":\"\"},\"colorscale\":[[0.0,\"#0d0887\"],[0.1111111111111111,\"#46039f\"],[0.2222222222222222,\"#7201a8\"],[0.3333333333333333,\"#9c179e\"],[0.4444444444444444,\"#bd3786\"],[0.5555555555555556,\"#d8576b\"],[0.6666666666666666,\"#ed7953\"],[0.7777777777777778,\"#fb9f3a\"],[0.8888888888888888,\"#fdca26\"],[1.0,\"#f0f921\"]],\"type\":\"heatmapgl\"}],\"heatmap\":[{\"colorbar\":{\"outlinewidth\":0,\"ticks\":\"\"},\"colorscale\":[[0.0,\"#0d0887\"],[0.1111111111111111,\"#46039f\"],[0.2222222222222222,\"#7201a8\"],[0.3333333333333333,\"#9c179e\"],[0.4444444444444444,\"#bd3786\"],[0.5555555555555556,\"#d8576b\"],[0.6666666666666666,\"#ed7953\"],[0.7777777777777778,\"#fb9f3a\"],[0.8888888888888888,\"#fdca26\"],[1.0,\"#f0f921\"]],\"type\":\"heatmap\"}],\"histogram2dcontour\":[{\"colorbar\":{\"outlinewidth\":0,\"ticks\":\"\"},\"colorscale\":[[0.0,\"#0d0887\"],[0.1111111111111111,\"#46039f\"],[0.2222222222222222,\"#7201a8\"],[0.3333333333333333,\"#9c179e\"],[0.4444444444444444,\"#bd3786\"],[0.5555555555555556,\"#d8576b\"],[0.6666666666666666,\"#ed7953\"],[0.7777777777777778,\"#fb9f3a\"],[0.8888888888888888,\"#fdca26\"],[1.0,\"#f0f921\"]],\"type\":\"histogram2dcontour\"}],\"histogram2d\":[{\"colorbar\":{\"outlinewidth\":0,\"ticks\":\"\"},\"colorscale\":[[0.0,\"#0d0887\"],[0.1111111111111111,\"#46039f\"],[0.2222222222222222,\"#7201a8\"],[0.3333333333333333,\"#9c179e\"],[0.4444444444444444,\"#bd3786\"],[0.5555555555555556,\"#d8576b\"],[0.6666666666666666,\"#ed7953\"],[0.7777777777777778,\"#fb9f3a\"],[0.8888888888888888,\"#fdca26\"],[1.0,\"#f0f921\"]],\"type\":\"histogram2d\"}],\"histogram\":[{\"marker\":{\"pattern\":{\"fillmode\":\"overlay\",\"size\":10,\"solidity\":0.2}},\"type\":\"histogram\"}],\"mesh3d\":[{\"colorbar\":{\"outlinewidth\":0,\"ticks\":\"\"},\"type\":\"mesh3d\"}],\"parcoords\":[{\"line\":{\"colorbar\":{\"outlinewidth\":0,\"ticks\":\"\"}},\"type\":\"parcoords\"}],\"pie\":[{\"automargin\":true,\"type\":\"pie\"}],\"scatter3d\":[{\"line\":{\"colorbar\":{\"outlinewidth\":0,\"ticks\":\"\"}},\"marker\":{\"colorbar\":{\"outlinewidth\":0,\"ticks\":\"\"}},\"type\":\"scatter3d\"}],\"scattercarpet\":[{\"marker\":{\"colorbar\":{\"outlinewidth\":0,\"ticks\":\"\"}},\"type\":\"scattercarpet\"}],\"scattergeo\":[{\"marker\":{\"colorbar\":{\"outlinewidth\":0,\"ticks\":\"\"}},\"type\":\"scattergeo\"}],\"scattergl\":[{\"marker\":{\"colorbar\":{\"outlinewidth\":0,\"ticks\":\"\"}},\"type\":\"scattergl\"}],\"scattermapbox\":[{\"marker\":{\"colorbar\":{\"outlinewidth\":0,\"ticks\":\"\"}},\"type\":\"scattermapbox\"}],\"scatterpolargl\":[{\"marker\":{\"colorbar\":{\"outlinewidth\":0,\"ticks\":\"\"}},\"type\":\"scatterpolargl\"}],\"scatterpolar\":[{\"marker\":{\"colorbar\":{\"outlinewidth\":0,\"ticks\":\"\"}},\"type\":\"scatterpolar\"}],\"scatter\":[{\"fillpattern\":{\"fillmode\":\"overlay\",\"size\":10,\"solidity\":0.2},\"type\":\"scatter\"}],\"scatterternary\":[{\"marker\":{\"colorbar\":{\"outlinewidth\":0,\"ticks\":\"\"}},\"type\":\"scatterternary\"}],\"surface\":[{\"colorbar\":{\"outlinewidth\":0,\"ticks\":\"\"},\"colorscale\":[[0.0,\"#0d0887\"],[0.1111111111111111,\"#46039f\"],[0.2222222222222222,\"#7201a8\"],[0.3333333333333333,\"#9c179e\"],[0.4444444444444444,\"#bd3786\"],[0.5555555555555556,\"#d8576b\"],[0.6666666666666666,\"#ed7953\"],[0.7777777777777778,\"#fb9f3a\"],[0.8888888888888888,\"#fdca26\"],[1.0,\"#f0f921\"]],\"type\":\"surface\"}],\"table\":[{\"cells\":{\"fill\":{\"color\":\"#EBF0F8\"},\"line\":{\"color\":\"white\"}},\"header\":{\"fill\":{\"color\":\"#C8D4E3\"},\"line\":{\"color\":\"white\"}},\"type\":\"table\"}]},\"layout\":{\"annotationdefaults\":{\"arrowcolor\":\"#2a3f5f\",\"arrowhead\":0,\"arrowwidth\":1},\"autotypenumbers\":\"strict\",\"coloraxis\":{\"colorbar\":{\"outlinewidth\":0,\"ticks\":\"\"}},\"colorscale\":{\"diverging\":[[0,\"#8e0152\"],[0.1,\"#c51b7d\"],[0.2,\"#de77ae\"],[0.3,\"#f1b6da\"],[0.4,\"#fde0ef\"],[0.5,\"#f7f7f7\"],[0.6,\"#e6f5d0\"],[0.7,\"#b8e186\"],[0.8,\"#7fbc41\"],[0.9,\"#4d9221\"],[1,\"#276419\"]],\"sequential\":[[0.0,\"#0d0887\"],[0.1111111111111111,\"#46039f\"],[0.2222222222222222,\"#7201a8\"],[0.3333333333333333,\"#9c179e\"],[0.4444444444444444,\"#bd3786\"],[0.5555555555555556,\"#d8576b\"],[0.6666666666666666,\"#ed7953\"],[0.7777777777777778,\"#fb9f3a\"],[0.8888888888888888,\"#fdca26\"],[1.0,\"#f0f921\"]],\"sequentialminus\":[[0.0,\"#0d0887\"],[0.1111111111111111,\"#46039f\"],[0.2222222222222222,\"#7201a8\"],[0.3333333333333333,\"#9c179e\"],[0.4444444444444444,\"#bd3786\"],[0.5555555555555556,\"#d8576b\"],[0.6666666666666666,\"#ed7953\"],[0.7777777777777778,\"#fb9f3a\"],[0.8888888888888888,\"#fdca26\"],[1.0,\"#f0f921\"]]},\"colorway\":[\"#636efa\",\"#EF553B\",\"#00cc96\",\"#ab63fa\",\"#FFA15A\",\"#19d3f3\",\"#FF6692\",\"#B6E880\",\"#FF97FF\",\"#FECB52\"],\"font\":{\"color\":\"#2a3f5f\"},\"geo\":{\"bgcolor\":\"white\",\"lakecolor\":\"white\",\"landcolor\":\"#E5ECF6\",\"showlakes\":true,\"showland\":true,\"subunitcolor\":\"white\"},\"hoverlabel\":{\"align\":\"left\"},\"hovermode\":\"closest\",\"mapbox\":{\"style\":\"light\"},\"paper_bgcolor\":\"white\",\"plot_bgcolor\":\"#E5ECF6\",\"polar\":{\"angularaxis\":{\"gridcolor\":\"white\",\"linecolor\":\"white\",\"ticks\":\"\"},\"bgcolor\":\"#E5ECF6\",\"radialaxis\":{\"gridcolor\":\"white\",\"linecolor\":\"white\",\"ticks\":\"\"}},\"scene\":{\"xaxis\":{\"backgroundcolor\":\"#E5ECF6\",\"gridcolor\":\"white\",\"gridwidth\":2,\"linecolor\":\"white\",\"showbackground\":true,\"ticks\":\"\",\"zerolinecolor\":\"white\"},\"yaxis\":{\"backgroundcolor\":\"#E5ECF6\",\"gridcolor\":\"white\",\"gridwidth\":2,\"linecolor\":\"white\",\"showbackground\":true,\"ticks\":\"\",\"zerolinecolor\":\"white\"},\"zaxis\":{\"backgroundcolor\":\"#E5ECF6\",\"gridcolor\":\"white\",\"gridwidth\":2,\"linecolor\":\"white\",\"showbackground\":true,\"ticks\":\"\",\"zerolinecolor\":\"white\"}},\"shapedefaults\":{\"line\":{\"color\":\"#2a3f5f\"}},\"ternary\":{\"aaxis\":{\"gridcolor\":\"white\",\"linecolor\":\"white\",\"ticks\":\"\"},\"baxis\":{\"gridcolor\":\"white\",\"linecolor\":\"white\",\"ticks\":\"\"},\"bgcolor\":\"#E5ECF6\",\"caxis\":{\"gridcolor\":\"white\",\"linecolor\":\"white\",\"ticks\":\"\"}},\"title\":{\"x\":0.05},\"xaxis\":{\"automargin\":true,\"gridcolor\":\"white\",\"linecolor\":\"white\",\"ticks\":\"\",\"title\":{\"standoff\":15},\"zerolinecolor\":\"white\",\"zerolinewidth\":2},\"yaxis\":{\"automargin\":true,\"gridcolor\":\"white\",\"linecolor\":\"white\",\"ticks\":\"\",\"title\":{\"standoff\":15},\"zerolinecolor\":\"white\",\"zerolinewidth\":2}}},\"title\":{\"text\":\"Plot of landing position y2\"},\"xaxis\":{\"title\":{\"text\":\"velocity\"}},\"yaxis\":{\"title\":{\"text\":\"y2\"}}},                        {\"responsive\": true}                    ).then(function(){\n",
       "                            \n",
       "var gd = document.getElementById('0aec8588-f3aa-4093-b959-1ce8af0ee772');\n",
       "var x = new MutationObserver(function (mutations, observer) {{\n",
       "        var display = window.getComputedStyle(gd).display;\n",
       "        if (!display || display === 'none') {{\n",
       "            console.log([gd, 'removed!']);\n",
       "            Plotly.purge(gd);\n",
       "            observer.disconnect();\n",
       "        }}\n",
       "}});\n",
       "\n",
       "// Listen for the removal of the full notebook cells\n",
       "var notebookContainer = gd.closest('#notebook-container');\n",
       "if (notebookContainer) {{\n",
       "    x.observe(notebookContainer, {childList: true});\n",
       "}}\n",
       "\n",
       "// Listen for the clearing of the current output cell\n",
       "var outputEl = gd.closest('.output');\n",
       "if (outputEl) {{\n",
       "    x.observe(outputEl, {childList: true});\n",
       "}}\n",
       "\n",
       "                        })                };                });            </script>        </div>"
      ]
     },
     "metadata": {},
     "output_type": "display_data"
    }
   ],
   "source": [
    "# Input variable\n",
    "x_name = 'velocity'\n",
    "\n",
    "# Number of points\n",
    "n_pts = 100\n",
    "\n",
    "# Create x values\n",
    "x_vals = np.linspace(dict_ranges[x_name][0], dict_ranges[x_name][1], n_pts)\n",
    "\n",
    "# Copy default input\n",
    "dict_input = dict_default_input.copy()\n",
    "\n",
    "# Calculate landing position for each x in x_vals\n",
    "y1_vals = np.zeros(n_pts)\n",
    "y2_vals = np.zeros(n_pts)\n",
    "for i in range(n_pts):\n",
    "    dict_input[x_name] = x_vals[i]\n",
    "    \n",
    "    y2, y1 = golf_m.get_landingpos(**dict_input)\n",
    "    y1_vals[i] = y1\n",
    "    y2_vals[i] = y2\n",
    "\n",
    "# Create plots\n",
    "trace_y1 = go.Scatter(x = x_vals, y = y1_vals, mode = 'lines', name = 'y1')\n",
    "layout = go.Layout(title = 'Plot of landing position y1', xaxis = dict(title = x_name), yaxis = dict(title = 'y1'))\n",
    "fig_y1 = go.Figure(data=[trace_y1], layout=layout)\n",
    "\n",
    "trace_y2 = go.Scatter(x = x_vals, y = y2_vals, mode = 'lines', name = 'y2')\n",
    "layout = go.Layout(title = 'Plot of landing position y2', xaxis = dict(title = x_name), yaxis = dict(title = 'y2'))\n",
    "fig_y2 = go.Figure(data=[trace_y2], layout=layout)\n",
    "\n",
    "pltlyoff.iplot(fig_y1, filename='tmp', show_link=False)\n",
    "pltlyoff.iplot(fig_y2, filename='tmp', show_link=False)"
   ]
  },
  {
   "cell_type": "code",
   "execution_count": null,
   "metadata": {},
   "outputs": [],
   "source": []
  }
 ],
 "metadata": {
  "kernelspec": {
   "display_name": "Python 3 (ipykernel)",
   "language": "python",
   "name": "python3"
  },
  "language_info": {
   "codemirror_mode": {
    "name": "ipython",
    "version": 3
   },
   "file_extension": ".py",
   "mimetype": "text/x-python",
   "name": "python",
   "nbconvert_exporter": "python",
   "pygments_lexer": "ipython3",
   "version": "3.9.4"
  }
 },
 "nbformat": 4,
 "nbformat_minor": 2
}
